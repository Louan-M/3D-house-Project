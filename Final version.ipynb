{
 "cells": [
  {
   "cell_type": "markdown",
   "id": "optical-upgrade",
   "metadata": {},
   "source": [
    "# 3D House project"
   ]
  },
  {
   "cell_type": "markdown",
   "id": "stunning-switzerland",
   "metadata": {},
   "source": [
    "This project consists of plotting an interactive 3D Surface Graph of a house, based on the address provided. The region covered is the region of Flanders (Belgium)."
   ]
  },
  {
   "cell_type": "markdown",
   "id": "mechanical-examination",
   "metadata": {},
   "source": [
    "The data are *Lidar* data. The region is divided into 43 rasters. Each raster is in the format **.tif** . This program will select the correct raster after getting from an API the geospatial coordinates corresponding to the address of the house."
   ]
  },
  {
   "cell_type": "markdown",
   "id": "bound-strength",
   "metadata": {},
   "source": [
    "## 1. Libraries"
   ]
  },
  {
   "cell_type": "code",
   "execution_count": 16,
   "id": "demanding-niger",
   "metadata": {},
   "outputs": [],
   "source": [
    "import geopandas as gpd\n",
    "from shapely.geometry import Polygon\n",
    "\n",
    "import rasterio # Tif files\n",
    "import os\n",
    "import numpy as np\n",
    "import pandas as pd\n",
    "%matplotlib inline\n",
    "import matplotlib.pyplot as plt\n",
    "#import rioxarray as rxr\n",
    "from rasterio.plot import show\n",
    "from rasterio.mask import mask\n",
    "\n",
    "import requests\n",
    "import json"
   ]
  },
  {
   "cell_type": "markdown",
   "id": "amber-discovery",
   "metadata": {},
   "source": [
    "## 2. Address and coordinates"
   ]
  },
  {
   "cell_type": "code",
   "execution_count": 60,
   "id": "broken-college",
   "metadata": {},
   "outputs": [
    {
     "name": "stdin",
     "output_type": "stream",
     "text": [
      "Post code:  3020\n"
     ]
    }
   ],
   "source": [
    "post_code = int(input(\"Post code: \"))"
   ]
  },
  {
   "cell_type": "code",
   "execution_count": 61,
   "id": "therapeutic-municipality",
   "metadata": {},
   "outputs": [
    {
     "name": "stdin",
     "output_type": "stream",
     "text": [
      "Street name:  Lodewijk van Veltemstraat\n"
     ]
    }
   ],
   "source": [
    "street_name = input(\"Street name: \")"
   ]
  },
  {
   "cell_type": "code",
   "execution_count": 62,
   "id": "elder-phone",
   "metadata": {},
   "outputs": [
    {
     "name": "stdin",
     "output_type": "stream",
     "text": [
      "House number:  15\n"
     ]
    }
   ],
   "source": [
    "house_number = int(input(\"House number: \"))"
   ]
  },
  {
   "cell_type": "code",
   "execution_count": 63,
   "id": "elder-india",
   "metadata": {},
   "outputs": [],
   "source": [
    "# Address request to the basisregisters Vlaanderen API\n",
    "\n",
    "# HTTP request to the API\n",
    "address = requests.get(\"https://api.basisregisters.vlaanderen.be/v1/adresmatch\",\n",
    "                      params={'postcode': post_code, 'straatnaam': street_name, 'huisnummer':house_number})\n",
    "\n",
    "address = address.json() # Convert http request's response into json format"
   ]
  },
  {
   "cell_type": "code",
   "execution_count": 115,
   "id": "pointed-surface",
   "metadata": {},
   "outputs": [],
   "source": [
    "def get_coordinates(address):\n",
    "    \"\"\"\n",
    "    Function that get the geospatial coordinates and separate the latitude and longitude\n",
    "    in two different lists (lat, lon).\n",
    "    \"\"\"\n",
    "\n",
    "    address = address['adresMatches'][0]\n",
    "    \n",
    "    norm = pd.json_normalize(address)\n",
    "    norm = norm.loc[0,'adresseerbareObjecten']\n",
    "    block_url = norm[0].get('detail')\n",
    "    block_url\n",
    "    \n",
    "    # Second request\n",
    "    address = requests.get(block_url)\n",
    "    block_details = address.json()\n",
    "    block_details\n",
    "    \n",
    "    building = block_details.get('gebouw')\n",
    "    url_house = building.get('detail')\n",
    "    \n",
    "    # Third request\n",
    "    house = requests.get(url_house)\n",
    "    house_details = house.json()\n",
    "\n",
    "\n",
    "    df = pd.json_normalize(house_details) # Convert the json format into a Pandas DataFrame\n",
    "    \n",
    "    house_coordinates = df.loc[0,'geometriePolygoon.polygon.coordinates']\n",
    "    lat_lon = []\n",
    "\n",
    "    # Write geometry coordinates to a list\n",
    "    for list in house_coordinates:\n",
    "        for sublist in list:\n",
    "            for coordinates in sublist:\n",
    "                print(coordinates, end='\\n')\n",
    "                lat_lon.append(coordinates)\n",
    "\n",
    "    lat = []\n",
    "    lon = []\n",
    "\n",
    "    for i, coords in enumerate(lat_lon):\n",
    "        if i % 2 == 0:\n",
    "            lat.append(coords)\n",
    "        else:\n",
    "            lon.append(coords)\n",
    "\n",
    "    return lat, lon"
   ]
  },
  {
   "cell_type": "code",
   "execution_count": 65,
   "id": "vulnerable-classroom",
   "metadata": {},
   "outputs": [
    {
     "name": "stdout",
     "output_type": "stream",
     "text": [
      "167710.48200749606\n",
      "176747.95897277445\n",
      "167701.10703148693\n",
      "176745.50201277435\n",
      "167700.8360554874\n",
      "176745.43097277358\n",
      "167703.8909034878\n",
      "176733.7705567628\n",
      "167708.84271149337\n",
      "176735.0441567637\n",
      "167709.482583493\n",
      "176731.938748762\n",
      "167714.3252074942\n",
      "176733.29465276375\n",
      "167710.48200749606\n",
      "176747.95897277445\n"
     ]
    }
   ],
   "source": [
    "lat, lon = get_coordinates(address)"
   ]
  },
  {
   "cell_type": "markdown",
   "id": "supreme-album",
   "metadata": {},
   "source": [
    "## 3. Creation of the polygon"
   ]
  },
  {
   "cell_type": "code",
   "execution_count": 66,
   "id": "alone-session",
   "metadata": {},
   "outputs": [
    {
     "data": {
      "image/svg+xml": [
       "<svg xmlns=\"http://www.w3.org/2000/svg\" xmlns:xlink=\"http://www.w3.org/1999/xlink\" width=\"100.0\" height=\"100.0\" viewBox=\"167700.19524652688 176731.2979398015 14.770769927825313 17.301841933454853\" preserveAspectRatio=\"xMinYMin meet\"><g transform=\"matrix(1,0,0,-1,0,353479.89772153646)\"><path fill-rule=\"evenodd\" fill=\"#66cc99\" stroke=\"#555555\" stroke-width=\"0.34603683866909707\" opacity=\"0.6\" d=\"M 167710.48200749606,176747.95897277445 L 167701.10703148693,176745.50201277435 L 167700.8360554874,176745.43097277358 L 167703.8909034878,176733.7705567628 L 167708.84271149337,176735.0441567637 L 167709.482583493,176731.938748762 L 167714.3252074942,176733.29465276375 L 167710.48200749606,176747.95897277445 z\" /></g></svg>"
      ],
      "text/plain": [
       "<shapely.geometry.polygon.Polygon at 0x7f2dbb5ba3d0>"
      ]
     },
     "execution_count": 66,
     "metadata": {},
     "output_type": "execute_result"
    }
   ],
   "source": [
    "polygon_geometry = Polygon(zip(lat, lon)) # Geometry\n",
    "polygon = gpd.GeoDataFrame(index=[0], crs='epsg:31370', geometry=[polygon_geometry])\n",
    "\n",
    "polygon_geometry"
   ]
  },
  {
   "cell_type": "markdown",
   "id": "typical-british",
   "metadata": {},
   "source": [
    "## 4. Selection of the raster"
   ]
  },
  {
   "cell_type": "markdown",
   "id": "satisfied-ridge",
   "metadata": {},
   "source": [
    "All the rasters are located in the local drive and separated in two distincts folders (/DSM and /DTM)"
   ]
  },
  {
   "cell_type": "code",
   "execution_count": 67,
   "id": "ongoing-nicaragua",
   "metadata": {},
   "outputs": [],
   "source": [
    "def select_raster(coordinates):\n",
    "    \"\"\"\n",
    "    Function that select the correct raster based on the coordinates of the address.\n",
    "    \"\"\"\n",
    "    \n",
    "    df = pd.read_csv('rasters_lambert_coordinates.csv') # Load the csv file\n",
    "    \n",
    "\n",
    "    # Search for the correct raster\n",
    "    raster = df[(df['Left'] < coordinates[0]) & (df['Right'] > coordinates[0])\n",
    "       & ((df['Bottom'] < coordinates[1]) & (df['Top'] > coordinates[1]))]\n",
    "    \n",
    "    num_raster = raster['Raster'].item() # Raster number\n",
    "    \n",
    "    return num_raster"
   ]
  },
  {
   "cell_type": "code",
   "execution_count": 68,
   "id": "sophisticated-rwanda",
   "metadata": {},
   "outputs": [],
   "source": [
    "# Return raster number\n",
    "raster_number = select_raster([lat[0],lon[0]])"
   ]
  },
  {
   "cell_type": "markdown",
   "id": "continent-fleece",
   "metadata": {},
   "source": [
    "## 5. Masking the DSM and DTM"
   ]
  },
  {
   "cell_type": "code",
   "execution_count": 81,
   "id": "personalized-lodge",
   "metadata": {},
   "outputs": [
    {
     "name": "stdout",
     "output_type": "stream",
     "text": [
      "{'driver': 'GTiff', 'dtype': 'float32', 'nodata': -9999.0, 'width': 15, 'height': 17, 'count': 1, 'crs': CRS.from_epsg(31370), 'transform': Affine(1.0, 0.0, 167700.0,\n",
      "       0.0, -1.0, 176748.0), 'drivers': 'GTiff'}\n"
     ]
    }
   ],
   "source": [
    "path_DSM = f\"/media/ms/Seagate Expansion Drive/BECODE/Rasters/DSM/DHMVIIDSMRAS1m_k{raster_number}.tif\"  \n",
    "path_DTM = f\"/media/ms/Seagate Expansion Drive/BECODE/Rasters/DTM/DHMVIIDTMRAS1m_k{raster_number}.tif\"\n",
    "path_DSM\n",
    "\n",
    "# Open DTM and DSM rasters\n",
    "raster_DTM = rasterio.open(path_DTM)\n",
    "raster_DSM = rasterio.open(path_DSM)\n",
    "\n",
    "\n",
    "# Crop of the DTM raster based on the polygon geometry\n",
    "masked_DTM, masked_transform_DTM = mask(dataset=raster_DTM, shapes=polygon.geometry, crop=True, filled=False) \n",
    "\n",
    "\n",
    "# Crop of the DSM raster based on the polygon geometry\n",
    "masked_DSM, masked_transform_DSM = mask(dataset=raster_DSM, shapes=polygon.geometry, crop=True, filled=False) \n",
    "\n",
    "profile = raster_DTM.meta.copy()\n",
    "\n",
    "width = masked_DTM.shape[2]\n",
    "height = masked_DTM.shape[1]\n",
    "profile.update(drivers='GTiff', transform=masked_transform_DTM, height=height, width=width)\n",
    "\n",
    "print(profile)\n",
    "\n",
    "# Create a new file \"masked_DSM.tif\" and saving it into the local drive\n",
    "with rasterio.open(\"/home/ms/BeCode/Projects/3D-house-Project/masked_DSM.tif\", 'w', **profile) as dst:\n",
    "    dst.write(masked_DSM) \n",
    "    \n",
    "# Create a new file \"masked_DTM.tif\" and saving it into the local drive    \n",
    "with rasterio.open(\"/home/ms/BeCode/Projects/3D-house-Project/masked_DTM.tif\", 'w', **profile) as dst:\n",
    "    dst.write(masked_DTM) # Save the masked DTM"
   ]
  },
  {
   "cell_type": "markdown",
   "id": "russian-bridge",
   "metadata": {},
   "source": [
    "## 6. Creation of the CHM (Canopy Height Model)"
   ]
  },
  {
   "cell_type": "code",
   "execution_count": 99,
   "id": "beginning-chrome",
   "metadata": {},
   "outputs": [
    {
     "data": {
      "image/png": "[encoded data removed]",
      "text/plain": [
       "<Figure size 432x288 with 1 Axes>"
      ]
     },
     "metadata": {
      "needs_background": "light"
     },
     "output_type": "display_data"
    },
    {
     "name": "stdout",
     "output_type": "stream",
     "text": [
      "{'driver': 'GTiff', 'dtype': 'float32', 'nodata': -9999.0, 'width': 15, 'height': 17, 'count': 1, 'crs': CRS.from_epsg(31370), 'transform': Affine(1.0, 0.0, 167700.0,\n",
      "       0.0, -1.0, 176748.0), 'drivers': 'GTiff'}\n"
     ]
    }
   ],
   "source": [
    "m_DTM = rasterio.open('masked_DTM.tif')\n",
    "m_DSM = rasterio.open('masked_DSM.tif')\n",
    "\n",
    "DSM_array = m_DSM.read(1)\n",
    "DTM_array = m_DTM.read(1)\n",
    "raster_CHM = DSM_array - DTM_array # Canopy Height Model (CHM) = (DSM - DTM)\n",
    "show(raster_CHM)\n",
    "\n",
    "print(profile)\n",
    "\n",
    "# # Create a new file \"CHM.tif\" and save it into the local drive\n",
    "with rasterio.open(\"/home/ms/BeCode/Projects/3D-house-Project/CHM.tif\", 'w', **profile) as dst:\n",
    "    dst.write(raster_CHM, 1)"
   ]
  },
  {
   "cell_type": "markdown",
   "id": "sitting-phase",
   "metadata": {},
   "source": [
    "## 7. 3D Plot"
   ]
  },
  {
   "cell_type": "markdown",
   "id": "unique-programming",
   "metadata": {},
   "source": [
    "The library used is **plotly**. The 3D Surface plot opens in the browser in a new tab."
   ]
  },
  {
   "cell_type": "code",
   "execution_count": 111,
   "id": "transparent-rainbow",
   "metadata": {},
   "outputs": [
    {
     "data": {
      "text/plain": [
       "'temp-plot.html'"
      ]
     },
     "execution_count": 111,
     "metadata": {},
     "output_type": "execute_result"
    }
   ],
   "source": [
    "CHM = rasterio.open('CHM.tif')\n",
    "CHM_array = CHM.read(1) # Convert the raster into a Numpy array\n",
    "\n",
    "\"\"\"import pandas as pd\n",
    "import numpy as np\n",
    "from plotly.offline import download_plotlyjs, init_notebook_mode, plot\n",
    "from plotly.graph_objs import *\n",
    "init_notebook_mode()\n",
    "import matplotlib.pyplot as plt\n",
    "%matplotlib inline\n",
    "from matplotlib import cm\n",
    "from plotly.offline import init_notebook_mode, iplot\"\"\"\n",
    "\n",
    "from plotly.graph_objs import *\n",
    "fig = go.Figure(data=[go.Surface(z=CHM_array)]) # Create the figure from the CHM array\n",
    "fig.write_image(\"image.png\") # Write image to the local drive\n",
    "\n",
    "plot(fig) # Plot the house in new tab"
   ]
  }
 ],
 "metadata": {
  "kernelspec": {
   "display_name": "Python 3",
   "language": "python",
   "name": "python3"
  },
  "language_info": {
   "codemirror_mode": {
    "name": "ipython",
    "version": 3
   },
   "file_extension": ".py",
   "mimetype": "text/x-python",
   "name": "python",
   "nbconvert_exporter": "python",
   "pygments_lexer": "ipython3",
   "version": "3.8.5"
  }
 },
 "nbformat": 4,
 "nbformat_minor": 5
}
