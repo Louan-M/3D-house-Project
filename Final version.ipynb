{
 "cells": [
  {
   "cell_type": "markdown",
   "id": "through-petite",
   "metadata": {},
   "source": [
    "# 3D House project"
   ]
  },
  {
   "cell_type": "markdown",
   "id": "expected-strain",
   "metadata": {},
   "source": [
    "This project consists of plotting an interactive 3D Surface Graph of a house, based on the address provided. The region covered is the region of Flanders (Belgium)."
   ]
  },
  {
   "cell_type": "markdown",
   "id": "controlled-shade",
   "metadata": {},
   "source": [
    "The data are *Lidar* data. The region is divided into 43 rasters. Each raster is in the format **.tif** . This program will select the correct raster after getting from an API the geospatial coordinates corresponding to the address of the house."
   ]
  },
  {
   "cell_type": "markdown",
   "id": "superb-hazard",
   "metadata": {},
   "source": [
    "## 1. Libraries"
   ]
  },
  {
   "cell_type": "code",
   "execution_count": 18,
   "id": "labeled-regard",
   "metadata": {},
   "outputs": [],
   "source": [
    "import geopandas as gpd\n",
    "from shapely.geometry import Polygon\n",
    "\n",
    "import rasterio # Tif files\n",
    "import os\n",
    "import numpy as np\n",
    "import pandas as pd\n",
    "\n",
    "import plotly.graph_objects as go\n",
    "import matplotlib.pyplot as plt\n",
    "%matplotlib inline\n",
    "from plotly.offline import download_plotlyjs, init_notebook_mode, plot\n",
    "from plotly.graph_objs import *\n",
    "from rasterio.plot import show\n",
    "from rasterio.mask import mask\n",
    "\n",
    "import requests\n",
    "import json"
   ]
  },
  {
   "cell_type": "markdown",
   "id": "middle-telephone",
   "metadata": {},
   "source": [
    "## 2. Address and coordinates"
   ]
  },
  {
   "cell_type": "code",
   "execution_count": 19,
   "id": "mobile-split",
   "metadata": {},
   "outputs": [
    {
     "name": "stdin",
     "output_type": "stream",
     "text": [
      "Post code:  9051\n"
     ]
    }
   ],
   "source": [
    "post_code = int(input(\"Post code: \"))"
   ]
  },
  {
   "cell_type": "code",
   "execution_count": 20,
   "id": "accompanied-teaching",
   "metadata": {},
   "outputs": [
    {
     "name": "stdin",
     "output_type": "stream",
     "text": [
      "Street name:  maaltekouter\n"
     ]
    }
   ],
   "source": [
    "street_name = input(\"Street name: \")"
   ]
  },
  {
   "cell_type": "code",
   "execution_count": 21,
   "id": "atmospheric-symphony",
   "metadata": {},
   "outputs": [
    {
     "name": "stdin",
     "output_type": "stream",
     "text": [
      "House number:  1\n"
     ]
    }
   ],
   "source": [
    "house_number = int(input(\"House number: \"))"
   ]
  },
  {
   "cell_type": "code",
   "execution_count": 22,
   "id": "plastic-honduras",
   "metadata": {},
   "outputs": [],
   "source": [
    "house_address = f'{street_name} {house_number} {post_code}' # Will be use for the title of the 3D plot later on"
   ]
  },
  {
   "cell_type": "code",
   "execution_count": 23,
   "id": "entitled-scanner",
   "metadata": {},
   "outputs": [],
   "source": [
    "# Address request to the basisregisters Vlaanderen API\n",
    "\n",
    "# HTTP request to the API\n",
    "address = requests.get(\"https://api.basisregisters.vlaanderen.be/v1/adresmatch\",\n",
    "                      params={'postcode': post_code, 'straatnaam': street_name, 'huisnummer':house_number})\n",
    "\n",
    "address = address.json() # Convert http request's response into json format"
   ]
  },
  {
   "cell_type": "code",
   "execution_count": 24,
   "id": "super-trader",
   "metadata": {},
   "outputs": [],
   "source": [
    "def get_coordinates(address):\n",
    "    \"\"\"\n",
    "    Function that get the geospatial coordinates and separate the latitude and longitude\n",
    "    in two different lists (lat, lon).\n",
    "    \"\"\"\n",
    "\n",
    "    address = address['adresMatches'][0]\n",
    "    \n",
    "    norm = pd.json_normalize(address)\n",
    "    norm = norm.loc[0,'adresseerbareObjecten']\n",
    "    block_url = norm[0].get('detail')\n",
    "    block_url\n",
    "    \n",
    "    # Second request\n",
    "    address = requests.get(block_url)\n",
    "    block_details = address.json()\n",
    "    block_details\n",
    "    \n",
    "    building = block_details.get('gebouw')\n",
    "    url_house = building.get('detail')\n",
    "    \n",
    "    # Third request\n",
    "    house = requests.get(url_house)\n",
    "    house_details = house.json()\n",
    "\n",
    "\n",
    "    df = pd.json_normalize(house_details) # Convert the json format into a Pandas DataFrame\n",
    "    \n",
    "    house_coordinates = df.loc[0,'geometriePolygoon.polygon.coordinates']\n",
    "    lat_lon = []\n",
    "\n",
    "    # Write geometry coordinates to a list\n",
    "    for list in house_coordinates:\n",
    "        for sublist in list:\n",
    "            for coordinates in sublist:\n",
    "                print(coordinates, end='\\n')\n",
    "                lat_lon.append(coordinates)\n",
    "\n",
    "    lat = []\n",
    "    lon = []\n",
    "\n",
    "    for i, coords in enumerate(lat_lon):\n",
    "        if i % 2 == 0:\n",
    "            lat.append(coords)\n",
    "        else:\n",
    "            lon.append(coords)\n",
    "\n",
    "    return lat, lon"
   ]
  },
  {
   "cell_type": "code",
   "execution_count": 25,
   "id": "correct-footage",
   "metadata": {},
   "outputs": [
    {
     "name": "stdout",
     "output_type": "stream",
     "text": [
      "102461.71434639394\n",
      "191116.0521667041\n",
      "102437.88996237516\n",
      "191074.20691867545\n",
      "102494.97796241939\n",
      "191041.64679065347\n",
      "102483.17687440664\n",
      "191020.79456663877\n",
      "102425.9721383676\n",
      "191053.51290266216\n",
      "102402.014122352\n",
      "191011.73114263266\n",
      "102410.08017035574\n",
      "191007.21018262953\n",
      "102406.76292235404\n",
      "191001.74304662645\n",
      "102409.20209036022\n",
      "191000.4220866263\n",
      "102403.72317835689\n",
      "190990.82413461804\n",
      "102401.32189834863\n",
      "190992.10515861958\n",
      "102398.32106634974\n",
      "190986.55507861823\n",
      "102390.2150823474\n",
      "190991.15488661826\n",
      "102366.33489032835\n",
      "190949.17600658908\n",
      "102371.41188233346\n",
      "190946.41376658902\n",
      "102368.25386632979\n",
      "190941.2210625857\n",
      "102371.5188903287\n",
      "190939.38195858523\n",
      "102370.87991432846\n",
      "190938.28115858138\n",
      "102373.67287433147\n",
      "190936.68013458326\n",
      "102373.27300233394\n",
      "190935.9730625823\n",
      "102377.3628583327\n",
      "190933.45504657924\n",
      "102377.9219623357\n",
      "190934.2409665808\n",
      "102380.6770343408\n",
      "190932.71981457993\n",
      "102381.35543433577\n",
      "190933.82215058059\n",
      "102391.31025034189\n",
      "190928.18093457446\n",
      "102394.46775434911\n",
      "190933.33319057897\n",
      "102439.12081037462\n",
      "190907.6958145611\n",
      "102437.96061837673\n",
      "190905.64986256137\n",
      "102432.88721037656\n",
      "190908.8063425608\n",
      "102426.04689037055\n",
      "190896.76871055365\n",
      "102431.39985037595\n",
      "190894.04384655133\n",
      "102430.16081037372\n",
      "190891.9589825496\n",
      "102450.89527438581\n",
      "190880.27770254388\n",
      "102443.49585038424\n",
      "190867.33280653507\n",
      "102442.04023437947\n",
      "190868.17299853638\n",
      "102438.7173543796\n",
      "190862.07456653193\n",
      "102442.77444238216\n",
      "190860.22778252885\n",
      "102440.93226637691\n",
      "190856.80403852835\n",
      "102436.36829837412\n",
      "190859.44442252815\n",
      "102419.98890636861\n",
      "190830.88045451045\n",
      "102409.61169035733\n",
      "190812.7838144973\n",
      "102415.9338663593\n",
      "190809.2571584955\n",
      "102422.16285836697\n",
      "190805.78221449256\n",
      "102421.64369036257\n",
      "190804.91744649038\n",
      "102432.50116237253\n",
      "190798.4795584865\n",
      "102433.1800743714\n",
      "190799.58189448714\n",
      "102445.45373838395\n",
      "190792.34528648108\n",
      "102472.16887439787\n",
      "190838.84768651426\n",
      "102470.20177040249\n",
      "190840.005318515\n",
      "102472.20061840117\n",
      "190843.1515585184\n",
      "102473.30295440555\n",
      "190842.55098251626\n",
      "102476.73949840665\n",
      "190848.1753025204\n",
      "102475.3238184005\n",
      "190849.13479052112\n",
      "102478.06692240387\n",
      "190853.95360652357\n",
      "102504.89021842182\n",
      "190838.64109451324\n",
      "102512.9894824326\n",
      "190853.08231052384\n",
      "102506.99588242173\n",
      "190856.59482252598\n",
      "102512.21649042517\n",
      "190865.54336653277\n",
      "102557.10762646049\n",
      "190839.9428545162\n",
      "102554.02948245406\n",
      "190834.83002251014\n",
      "102564.2213544622\n",
      "190829.14989450574\n",
      "102563.5398824662\n",
      "190827.96922250837\n",
      "102566.45162646472\n",
      "190826.28935050592\n",
      "102566.13213846833\n",
      "190825.65959050506\n",
      "102570.18359446526\n",
      "190823.3402305022\n",
      "102570.54455447197\n",
      "190823.93005450442\n",
      "102573.2581544742\n",
      "190822.40941450372\n",
      "102573.8981544748\n",
      "190823.51072650403\n",
      "102577.12375447154\n",
      "190821.78938250244\n",
      "102580.00580247492\n",
      "190827.06247050688\n",
      "102584.96093847603\n",
      "190823.98637450486\n",
      "102602.95876248926\n",
      "190855.22195852548\n",
      "102604.8470184952\n",
      "190854.0627905242\n",
      "102605.28631449491\n",
      "190854.92909452692\n",
      "102609.34033049643\n",
      "190852.60922252387\n",
      "102608.78122649342\n",
      "190851.78387852386\n",
      "102611.82967449725\n",
      "190850.1372865215\n",
      "102611.84708249569\n",
      "190850.1685185209\n",
      "102612.00887449831\n",
      "190850.45677452162\n",
      "102612.79735449702\n",
      "190849.97856652364\n",
      "102612.62890649587\n",
      "190849.6794945225\n",
      "102612.31709849834\n",
      "190849.1132865213\n",
      "102613.53514649719\n",
      "190848.31251852214\n",
      "102614.0036264956\n",
      "190848.89101452008\n",
      "102614.53002650291\n",
      "190848.5889985226\n",
      "102619.27620249987\n",
      "190845.86874251813\n",
      "102619.10404250026\n",
      "190845.5605185181\n",
      "102620.09969050437\n",
      "190844.60979851708\n",
      "102620.02807450294\n",
      "190845.03277451918\n",
      "102620.15479450673\n",
      "190845.25946252048\n",
      "102620.19933850318\n",
      "190845.3398465179\n",
      "102623.28823450208\n",
      "190850.8361025229\n",
      "102622.5197225064\n",
      "190851.2129985243\n",
      "102622.35844250768\n",
      "190850.8581825234\n",
      "102616.53546649963\n",
      "190854.2578625232\n",
      "102616.77559450269\n",
      "190854.68947852403\n",
      "102615.71370650083\n",
      "190855.250630524\n",
      "102615.51249050349\n",
      "190854.8169665262\n",
      "102614.80439449847\n",
      "190855.21735052392\n",
      "102615.00561050326\n",
      "190855.5706305243\n",
      "102611.9371944964\n",
      "190857.41024652869\n",
      "102611.33610649407\n",
      "190856.2695105262\n",
      "102607.59850649536\n",
      "190858.50797452778\n",
      "102608.11921049654\n",
      "190859.49101452902\n",
      "102606.2330024913\n",
      "190860.76896652952\n",
      "102608.99319449812\n",
      "190865.6478145346\n",
      "102601.2425384894\n",
      "190870.20666253567\n",
      "102604.32375448942\n",
      "190875.7536705397\n",
      "102601.92452248931\n",
      "190877.1529665403\n",
      "102607.404458493\n",
      "190886.7519425489\n",
      "102609.76477849483\n",
      "190885.4330305457\n",
      "102612.89053849876\n",
      "190891.0983105488\n",
      "102620.85213850439\n",
      "190886.70535054803\n",
      "102644.80964252353\n",
      "190928.32992657647\n",
      "102637.06001051515\n",
      "190932.92717457935\n",
      "102640.09924251586\n",
      "190938.27808658406\n",
      "102637.66161051393\n",
      "190939.67738258466\n",
      "102643.21117851883\n",
      "190949.32039058954\n",
      "102645.57303451747\n",
      "190948.03987858817\n",
      "102648.73156252503\n",
      "190953.66727059335\n",
      "102656.67831452936\n",
      "190949.0290625915\n",
      "102659.71805853397\n",
      "190954.18080659583\n",
      "102661.64420253038\n",
      "190953.02163859457\n",
      "102662.08554653078\n",
      "190953.96679059416\n",
      "102665.82314653695\n",
      "190951.68890259042\n",
      "102665.30141853541\n",
      "190950.7043265924\n",
      "102668.36932253838\n",
      "190948.94509458914\n",
      "102668.60945053399\n",
      "190949.41767058894\n",
      "102669.35901853442\n",
      "190948.9773505889\n",
      "102669.11889053881\n",
      "190948.50579858944\n",
      "102670.57450653613\n",
      "190947.66663058847\n",
      "102670.85354653746\n",
      "190948.17709458992\n",
      "102676.25309854001\n",
      "190945.14605458826\n",
      "102679.12234654278\n",
      "190950.25427859277\n",
      "102679.08087454736\n",
      "190950.27783058956\n",
      "102673.23178654164\n",
      "190953.62989459187\n",
      "102673.57943454385\n",
      "190954.1884865947\n",
      "102672.59485854208\n",
      "190954.74861459434\n",
      "102672.27441053838\n",
      "190954.17875859514\n",
      "102672.26564253867\n",
      "190954.16237459332\n",
      "102672.07466653734\n",
      "190953.80346259475\n",
      "102671.48433054239\n",
      "190954.12295059487\n",
      "102671.68401053548\n",
      "190954.51719059423\n",
      "102670.56068253517\n",
      "190955.16032659635\n",
      "102668.53623453528\n",
      "190956.3178945966\n",
      "102667.9366825372\n",
      "190955.1776705943\n",
      "102664.08081053197\n",
      "190957.33779859543\n",
      "102664.64349853247\n",
      "190958.47904659808\n",
      "102662.91140253097\n",
      "190959.43904659897\n",
      "102680.55389854312\n",
      "190990.83693461865\n",
      "102617.91684250534\n",
      "191026.43680664524\n",
      "102620.9990825057\n",
      "191031.90599064901\n",
      "102610.65002650023\n",
      "191037.47091865167\n",
      "102616.72849050164\n",
      "191048.13280665874\n",
      "102555.02481045574\n",
      "191083.33178268373\n",
      "102558.67690645903\n",
      "191090.03795868903\n",
      "102548.5592744574\n",
      "191095.75802269205\n",
      "102544.84676244855\n",
      "191089.26483868808\n",
      "102543.73111444712\n",
      "191089.93402268738\n",
      "102537.63217044622\n",
      "191079.74215067923\n",
      "102527.44388244301\n",
      "191085.58048668504\n",
      "102524.44305043668\n",
      "191080.27104667947\n",
      "102461.71434639394\n",
      "191116.0521667041\n",
      "102587.48253848404\n",
      "190960.92538259923\n",
      "102599.36247448623\n",
      "190981.9358146116\n",
      "102638.5064105168\n",
      "190959.45799059793\n",
      "102635.22807451338\n",
      "190953.87207059562\n",
      "102637.54948251694\n",
      "190952.5521345921\n",
      "102632.18781851232\n",
      "190942.91219858453\n",
      "102629.70922651142\n",
      "190944.31149458885\n",
      "102626.70788250864\n",
      "190938.7644865848\n",
      "102587.48253848404\n",
      "190960.92538259923\n",
      "102563.71396246552\n",
      "190919.29619856924\n",
      "102602.74167449027\n",
      "190897.09587855637\n",
      "102599.42186649144\n",
      "190891.2734145522\n",
      "102601.74327448756\n",
      "190889.99341455102\n",
      "102596.42205848545\n",
      "190880.4318145439\n",
      "102593.94346648455\n",
      "190881.87104654312\n",
      "102590.86173848063\n",
      "190876.3235265389\n",
      "102551.87293845415\n",
      "190898.52333455533\n",
      "102563.71396246552\n",
      "190919.29619856924\n",
      "102420.21521036327\n",
      "191001.2289986275\n",
      "102459.11748239398\n",
      "190978.89248660952\n",
      "102447.30052238703\n",
      "190958.3182785958\n",
      "102408.62097035348\n",
      "190980.5221826136\n",
      "102411.70884235948\n",
      "190986.18695061654\n",
      "102409.13092235476\n",
      "190987.3092546165\n",
      "102414.83716236055\n",
      "190997.26202262193\n",
      "102417.10276236385\n",
      "190995.62976662442\n",
      "102420.21521036327\n",
      "191001.2289986275\n"
     ]
    }
   ],
   "source": [
    "lat, lon = get_coordinates(address)"
   ]
  },
  {
   "cell_type": "markdown",
   "id": "incredible-display",
   "metadata": {},
   "source": [
    "## 3. Creation of the polygon"
   ]
  },
  {
   "cell_type": "code",
   "execution_count": 26,
   "id": "lasting-annotation",
   "metadata": {},
   "outputs": [
    {
     "data": {
      "image/svg+xml": [
       "<svg xmlns=\"http://www.w3.org/2000/svg\" xmlns:xlink=\"http://www.w3.org/1999/xlink\" width=\"300\" height=\"300\" viewBox=\"102353.38661511942 190779.39701127217 340.1155586326204 349.60343064082554\" preserveAspectRatio=\"xMinYMin meet\"><g transform=\"matrix(1,0,0,-1,0,381908.39745318517)\"><path fill-rule=\"evenodd\" fill=\"#ff3333\" stroke=\"#555555\" stroke-width=\"2.3306895376055037\" opacity=\"0.6\" d=\"M 102461.71434639394,191116.0521667041 L 102437.88996237516,191074.20691867545 L 102494.97796241939,191041.64679065347 L 102483.17687440664,191020.79456663877 L 102425.9721383676,191053.51290266216 L 102402.014122352,191011.73114263266 L 102410.08017035574,191007.21018262953 L 102406.76292235404,191001.74304662645 L 102409.20209036022,191000.4220866263 L 102403.72317835689,190990.82413461804 L 102401.32189834863,190992.10515861958 L 102398.32106634974,190986.55507861823 L 102390.2150823474,190991.15488661826 L 102366.33489032835,190949.17600658908 L 102371.41188233346,190946.41376658902 L 102368.25386632979,190941.2210625857 L 102371.5188903287,190939.38195858523 L 102370.87991432846,190938.28115858138 L 102373.67287433147,190936.68013458326 L 102373.27300233394,190935.9730625823 L 102377.3628583327,190933.45504657924 L 102377.9219623357,190934.2409665808 L 102380.6770343408,190932.71981457993 L 102381.35543433577,190933.82215058059 L 102391.31025034189,190928.18093457446 L 102394.46775434911,190933.33319057897 L 102439.12081037462,190907.6958145611 L 102437.96061837673,190905.64986256137 L 102432.88721037656,190908.8063425608 L 102426.04689037055,190896.76871055365 L 102431.39985037595,190894.04384655133 L 102430.16081037372,190891.9589825496 L 102450.89527438581,190880.27770254388 L 102443.49585038424,190867.33280653507 L 102442.04023437947,190868.17299853638 L 102438.7173543796,190862.07456653193 L 102442.77444238216,190860.22778252885 L 102440.93226637691,190856.80403852835 L 102436.36829837412,190859.44442252815 L 102419.98890636861,190830.88045451045 L 102409.61169035733,190812.7838144973 L 102415.9338663593,190809.2571584955 L 102422.16285836697,190805.78221449256 L 102421.64369036257,190804.91744649038 L 102432.50116237253,190798.4795584865 L 102433.1800743714,190799.58189448714 L 102445.45373838395,190792.34528648108 L 102472.16887439787,190838.84768651426 L 102470.20177040249,190840.005318515 L 102472.20061840117,190843.1515585184 L 102473.30295440555,190842.55098251626 L 102476.73949840665,190848.1753025204 L 102475.3238184005,190849.13479052112 L 102478.06692240387,190853.95360652357 L 102504.89021842182,190838.64109451324 L 102512.9894824326,190853.08231052384 L 102506.99588242173,190856.59482252598 L 102512.21649042517,190865.54336653277 L 102557.10762646049,190839.9428545162 L 102554.02948245406,190834.83002251014 L 102564.2213544622,190829.14989450574 L 102563.5398824662,190827.96922250837 L 102566.45162646472,190826.28935050592 L 102566.13213846833,190825.65959050506 L 102570.18359446526,190823.3402305022 L 102570.54455447197,190823.93005450442 L 102573.2581544742,190822.40941450372 L 102573.8981544748,190823.51072650403 L 102577.12375447154,190821.78938250244 L 102580.00580247492,190827.06247050688 L 102584.96093847603,190823.98637450486 L 102602.95876248926,190855.22195852548 L 102604.8470184952,190854.0627905242 L 102605.28631449491,190854.92909452692 L 102609.34033049643,190852.60922252387 L 102608.78122649342,190851.78387852386 L 102611.82967449725,190850.1372865215 L 102611.84708249569,190850.1685185209 L 102612.00887449831,190850.45677452162 L 102612.79735449702,190849.97856652364 L 102612.62890649587,190849.6794945225 L 102612.31709849834,190849.1132865213 L 102613.53514649719,190848.31251852214 L 102614.0036264956,190848.89101452008 L 102614.53002650291,190848.5889985226 L 102619.27620249987,190845.86874251813 L 102619.10404250026,190845.5605185181 L 102620.09969050437,190844.60979851708 L 102620.02807450294,190845.03277451918 L 102620.15479450673,190845.25946252048 L 102620.19933850318,190845.3398465179 L 102623.28823450208,190850.8361025229 L 102622.5197225064,190851.2129985243 L 102622.35844250768,190850.8581825234 L 102616.53546649963,190854.2578625232 L 102616.77559450269,190854.68947852403 L 102615.71370650083,190855.250630524 L 102615.51249050349,190854.8169665262 L 102614.80439449847,190855.21735052392 L 102615.00561050326,190855.5706305243 L 102611.9371944964,190857.41024652869 L 102611.33610649407,190856.2695105262 L 102607.59850649536,190858.50797452778 L 102608.11921049654,190859.49101452902 L 102606.2330024913,190860.76896652952 L 102608.99319449812,190865.6478145346 L 102601.2425384894,190870.20666253567 L 102604.32375448942,190875.7536705397 L 102601.92452248931,190877.1529665403 L 102607.404458493,190886.7519425489 L 102609.76477849483,190885.4330305457 L 102612.89053849876,190891.0983105488 L 102620.85213850439,190886.70535054803 L 102644.80964252353,190928.32992657647 L 102637.06001051515,190932.92717457935 L 102640.09924251586,190938.27808658406 L 102637.66161051393,190939.67738258466 L 102643.21117851883,190949.32039058954 L 102645.57303451747,190948.03987858817 L 102648.73156252503,190953.66727059335 L 102656.67831452936,190949.0290625915 L 102659.71805853397,190954.18080659583 L 102661.64420253038,190953.02163859457 L 102662.08554653078,190953.96679059416 L 102665.82314653695,190951.68890259042 L 102665.30141853541,190950.7043265924 L 102668.36932253838,190948.94509458914 L 102668.60945053399,190949.41767058894 L 102669.35901853442,190948.9773505889 L 102669.11889053881,190948.50579858944 L 102670.57450653613,190947.66663058847 L 102670.85354653746,190948.17709458992 L 102676.25309854001,190945.14605458826 L 102679.12234654278,190950.25427859277 L 102679.08087454736,190950.27783058956 L 102673.23178654164,190953.62989459187 L 102673.57943454385,190954.1884865947 L 102672.59485854208,190954.74861459434 L 102672.27441053838,190954.17875859514 L 102672.26564253867,190954.16237459332 L 102672.07466653734,190953.80346259475 L 102671.48433054239,190954.12295059487 L 102671.68401053548,190954.51719059423 L 102670.56068253517,190955.16032659635 L 102668.53623453528,190956.3178945966 L 102667.9366825372,190955.1776705943 L 102664.08081053197,190957.33779859543 L 102664.64349853247,190958.47904659808 L 102662.91140253097,190959.43904659897 L 102680.55389854312,190990.83693461865 L 102617.91684250534,191026.43680664524 L 102620.9990825057,191031.90599064901 L 102610.65002650023,191037.47091865167 L 102616.72849050164,191048.13280665874 L 102555.02481045574,191083.33178268373 L 102558.67690645903,191090.03795868903 L 102548.5592744574,191095.75802269205 L 102544.84676244855,191089.26483868808 L 102543.73111444712,191089.93402268738 L 102537.63217044622,191079.74215067923 L 102527.44388244301,191085.58048668504 L 102524.44305043668,191080.27104667947 L 102461.71434639394,191116.0521667041 L 102587.48253848404,190960.92538259923 L 102599.36247448623,190981.9358146116 L 102638.5064105168,190959.45799059793 L 102635.22807451338,190953.87207059562 L 102637.54948251694,190952.5521345921 L 102632.18781851232,190942.91219858453 L 102629.70922651142,190944.31149458885 L 102626.70788250864,190938.7644865848 L 102587.48253848404,190960.92538259923 L 102563.71396246552,190919.29619856924 L 102602.74167449027,190897.09587855637 L 102599.42186649144,190891.2734145522 L 102601.74327448756,190889.99341455102 L 102596.42205848545,190880.4318145439 L 102593.94346648455,190881.87104654312 L 102590.86173848063,190876.3235265389 L 102551.87293845415,190898.52333455533 L 102563.71396246552,190919.29619856924 L 102420.21521036327,191001.2289986275 L 102459.11748239398,190978.89248660952 L 102447.30052238703,190958.3182785958 L 102408.62097035348,190980.5221826136 L 102411.70884235948,190986.18695061654 L 102409.13092235476,190987.3092546165 L 102414.83716236055,190997.26202262193 L 102417.10276236385,190995.62976662442 L 102420.21521036327,191001.2289986275 L 102461.71434639394,191116.0521667041 z\" /></g></svg>"
      ],
      "text/plain": [
       "<shapely.geometry.polygon.Polygon at 0x7f8cde2f5c70>"
      ]
     },
     "execution_count": 26,
     "metadata": {},
     "output_type": "execute_result"
    }
   ],
   "source": [
    "polygon_geometry = Polygon(zip(lat, lon)) # Geometry\n",
    "polygon = gpd.GeoDataFrame(index=[0], crs='epsg:31370', geometry=[polygon_geometry])\n",
    "\n",
    "polygon_geometry"
   ]
  },
  {
   "cell_type": "markdown",
   "id": "ordered-albania",
   "metadata": {},
   "source": [
    "## 4. Selection of the raster"
   ]
  },
  {
   "cell_type": "markdown",
   "id": "national-bidding",
   "metadata": {},
   "source": [
    "All the rasters are located in the local drive and separated in two distincts folders (/DSM and /DTM)"
   ]
  },
  {
   "cell_type": "code",
   "execution_count": 27,
   "id": "economic-sleeve",
   "metadata": {},
   "outputs": [],
   "source": [
    "def select_raster(coordinates):\n",
    "    \"\"\"\n",
    "    Function that select the correct raster based on the coordinates of the address.\n",
    "    \"\"\"\n",
    "    \n",
    "    df = pd.read_csv('rasters_lambert_coordinates.csv') # Load the csv file\n",
    "    \n",
    "\n",
    "    # Search for the correct raster\n",
    "    raster = df[(df['Left'] < coordinates[0]) & (df['Right'] > coordinates[0])\n",
    "       & ((df['Bottom'] < coordinates[1]) & (df['Top'] > coordinates[1]))]\n",
    "    \n",
    "    num_raster = raster['Raster'].item() # Raster number\n",
    "    \n",
    "    return num_raster"
   ]
  },
  {
   "cell_type": "code",
   "execution_count": 28,
   "id": "analyzed-faculty",
   "metadata": {},
   "outputs": [],
   "source": [
    "# Return raster number\n",
    "raster_number = select_raster([lat[0],lon[0]])"
   ]
  },
  {
   "cell_type": "markdown",
   "id": "subtle-croatia",
   "metadata": {},
   "source": [
    "## 5. Masking the DSM and DTM"
   ]
  },
  {
   "cell_type": "code",
   "execution_count": 29,
   "id": "executive-apache",
   "metadata": {},
   "outputs": [
    {
     "name": "stdout",
     "output_type": "stream",
     "text": [
      "{'driver': 'GTiff', 'dtype': 'float32', 'nodata': -9999.0, 'width': 315, 'height': 325, 'count': 1, 'crs': CRS.from_epsg(31370), 'transform': Affine(1.0, 0.0, 102366.0,\n",
      "       0.0, -1.0, 191117.0), 'drivers': 'GTiff'}\n"
     ]
    }
   ],
   "source": [
    "path_DSM = f\"/media/ms/Seagate Expansion Drive/BECODE/Rasters/DSM/DHMVIIDSMRAS1m_k{raster_number}.tif\"  \n",
    "path_DTM = f\"/media/ms/Seagate Expansion Drive/BECODE/Rasters/DTM/DHMVIIDTMRAS1m_k{raster_number}.tif\"\n",
    "path_DSM\n",
    "\n",
    "# Open DTM and DSM rasters\n",
    "raster_DTM = rasterio.open(path_DTM)\n",
    "raster_DSM = rasterio.open(path_DSM)\n",
    "\n",
    "\n",
    "# Crop of the DTM raster based on the polygon geometry\n",
    "masked_DTM, masked_transform_DTM = mask(dataset=raster_DTM, shapes=polygon.geometry, crop=True, filled=False) \n",
    "\n",
    "\n",
    "# Crop of the DSM raster based on the polygon geometry\n",
    "masked_DSM, masked_transform_DSM = mask(dataset=raster_DSM, shapes=polygon.geometry, crop=True, filled=False) \n",
    "\n",
    "profile = raster_DTM.meta.copy()\n",
    "\n",
    "width = masked_DTM.shape[2]\n",
    "height = masked_DTM.shape[1]\n",
    "profile.update(drivers='GTiff', transform=masked_transform_DTM, height=height, width=width)\n",
    "\n",
    "print(profile)\n",
    "\n",
    "# Create a new file \"masked_DSM.tif\" and saving it into the local drive\n",
    "with rasterio.open(\"/home/ms/BeCode/Projects/3D-house-Project/masked_DSM.tif\", 'w', **profile) as dst:\n",
    "    dst.write(masked_DSM) \n",
    "    \n",
    "# Create a new file \"masked_DTM.tif\" and saving it into the local drive    \n",
    "with rasterio.open(\"/home/ms/BeCode/Projects/3D-house-Project/masked_DTM.tif\", 'w', **profile) as dst:\n",
    "    dst.write(masked_DTM) # Save the masked DTM"
   ]
  },
  {
   "cell_type": "markdown",
   "id": "aboriginal-vietnamese",
   "metadata": {},
   "source": [
    "## 6. Creation of the CHM (Canopy Height Model)"
   ]
  },
  {
   "cell_type": "code",
   "execution_count": 30,
   "id": "structural-bosnia",
   "metadata": {},
   "outputs": [
    {
     "data": {
      "image/png": "[encoded data removed]",
      "text/plain": [
       "<Figure size 432x288 with 1 Axes>"
      ]
     },
     "metadata": {
      "needs_background": "light"
     },
     "output_type": "display_data"
    },
    {
     "name": "stdout",
     "output_type": "stream",
     "text": [
      "{'driver': 'GTiff', 'dtype': 'float32', 'nodata': -9999.0, 'width': 315, 'height': 325, 'count': 1, 'crs': CRS.from_epsg(31370), 'transform': Affine(1.0, 0.0, 102366.0,\n",
      "       0.0, -1.0, 191117.0), 'drivers': 'GTiff'}\n"
     ]
    }
   ],
   "source": [
    "m_DTM = rasterio.open('masked_DTM.tif')\n",
    "m_DSM = rasterio.open('masked_DSM.tif')\n",
    "\n",
    "DSM_array = m_DSM.read(1)\n",
    "DTM_array = m_DTM.read(1)\n",
    "raster_CHM = DSM_array - DTM_array # Canopy Height Model (CHM) = (DSM - DTM)\n",
    "show(raster_CHM)\n",
    "\n",
    "print(profile)\n",
    "\n",
    "# # Create a new file \"CHM.tif\" and save it into the local drive\n",
    "with rasterio.open(\"/home/ms/BeCode/Projects/3D-house-Project/CHM.tif\", 'w', **profile) as dst:\n",
    "    dst.write(raster_CHM, 1)"
   ]
  },
  {
   "cell_type": "markdown",
   "id": "instructional-grave",
   "metadata": {},
   "source": [
    "## 7. 3D Plot"
   ]
  },
  {
   "cell_type": "markdown",
   "id": "aboriginal-report",
   "metadata": {},
   "source": [
    "The library used is **plotly**. The 3D Surface plot opens in the browser in a new tab."
   ]
  },
  {
   "cell_type": "code",
   "execution_count": 32,
   "id": "broadband-density",
   "metadata": {},
   "outputs": [
    {
     "data": {
      "text/plain": [
       "'temp-plot.html'"
      ]
     },
     "execution_count": 32,
     "metadata": {},
     "output_type": "execute_result"
    }
   ],
   "source": [
    "CHM = rasterio.open('CHM.tif')\n",
    "CHM_array = CHM.read(1) # Convert the raster into a Numpy array\n",
    "\n",
    "\n",
    "\n",
    "# Reversing axis to get the correct shape\n",
    "import gdal\n",
    "from mpl_toolkits.mplot3d import Axes3D\n",
    "dem = gdal.Open(\"CHM.tif\")\n",
    "gt  = dem.GetGeoTransform()\n",
    "dem = dem.ReadAsArray()\n",
    "xres = gt[1]\n",
    "yres = gt[5]\n",
    "X = np.arange(gt[0], gt[0] + dem.shape[1]*xres, xres)\n",
    "Y = np.arange(gt[3], gt[3] + dem.shape[0]*yres, yres)\n",
    "\n",
    "#Plot\n",
    "fig = go.Figure(data=[go.Surface(z=CHM_array, x=X, y=Y)]) # Create the figure from the CHM array\n",
    "fig.update_layout(title=f'3D Plot - {house_address} (BeCode Beacon Campus)',\n",
    "                    scene = dict(\n",
    "                    xaxis_title='Distance (m)',\n",
    "                    yaxis_title='Distance (m)',\n",
    "                    zaxis_title='Height'),\n",
    "                    font=dict(\n",
    "                    family=\"Courier New, monospace\",\n",
    "                    size=18,\n",
    "                    color=\"RebeccaPurple\"))\n",
    "\n",
    "#fig.write_image(\"image.png\", width=1000, height=1000) # Write image to the local drive\n",
    "\n",
    "plot(fig) # Plot the house in new tab"
   ]
  },
  {
   "cell_type": "markdown",
   "id": "detailed-survivor",
   "metadata": {},
   "source": [
    "\n",
    "<img src='3D Plot images/Becode Beacon campus.png' width=\"900\" height=\"900\">"
   ]
  }
 ],
 "metadata": {
  "kernelspec": {
   "display_name": "Python 3",
   "language": "python",
   "name": "python3"
  },
  "language_info": {
   "codemirror_mode": {
    "name": "ipython",
    "version": 3
   },
   "file_extension": ".py",
   "mimetype": "text/x-python",
   "name": "python",
   "nbconvert_exporter": "python",
   "pygments_lexer": "ipython3",
   "version": "3.8.5"
  }
 },
 "nbformat": 4,
 "nbformat_minor": 5
}
