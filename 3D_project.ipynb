{
 "cells": [
  {
   "cell_type": "markdown",
   "id": "virtual-disney",
   "metadata": {},
   "source": [
    "# 3D House project"
   ]
  },
  {
   "cell_type": "markdown",
   "id": "emerging-practice",
   "metadata": {},
   "source": [
    "This project consists of plotting an interactive 3D Surface Graph of a house, based on the address provided. The region covered is the region of Flanders (Belgium)."
   ]
  },
  {
   "cell_type": "markdown",
   "id": "fitting-australia",
   "metadata": {},
   "source": [
    "The data are *Lidar* data. The region is divided into 43 rasters. Each raster is in the format **.tif** . This program will select the correct raster after getting from an API the geospatial coordinates corresponding to the address of the house."
   ]
  },
  {
   "cell_type": "markdown",
   "id": "judicial-tissue",
   "metadata": {},
   "source": [
    "## 1. Libraries"
   ]
  },
  {
   "cell_type": "code",
   "execution_count": 52,
   "id": "frozen-plate",
   "metadata": {},
   "outputs": [],
   "source": [
    "import geopandas as gpd\n",
    "from shapely.geometry import Polygon\n",
    "\n",
    "import rasterio # Tif files\n",
    "import os\n",
    "import numpy as np\n",
    "import pandas as pd\n",
    "\n",
    "import plotly.graph_objects as go\n",
    "import matplotlib.pyplot as plt\n",
    "%matplotlib inline\n",
    "from plotly.offline import download_plotlyjs, init_notebook_mode, plot\n",
    "from plotly.graph_objs import *\n",
    "from rasterio.plot import show\n",
    "from rasterio.mask import mask\n",
    "\n",
    "import requests\n",
    "import json"
   ]
  },
  {
   "cell_type": "markdown",
   "id": "decent-keeping",
   "metadata": {},
   "source": [
    "## 2. Address and coordinates"
   ]
  },
  {
   "cell_type": "code",
   "execution_count": 53,
   "id": "fleet-acceptance",
   "metadata": {},
   "outputs": [
    {
     "name": "stdin",
     "output_type": "stream",
     "text": [
      "Street name:  bolivarplaats\n"
     ]
    }
   ],
   "source": [
    "street_name = input(\"Street name: \")"
   ]
  },
  {
   "cell_type": "code",
   "execution_count": 54,
   "id": "narrow-given",
   "metadata": {},
   "outputs": [
    {
     "name": "stdin",
     "output_type": "stream",
     "text": [
      "House number:  20\n"
     ]
    }
   ],
   "source": [
    "house_number = int(input(\"House number: \"))"
   ]
  },
  {
   "cell_type": "code",
   "execution_count": 55,
   "id": "owned-herald",
   "metadata": {},
   "outputs": [
    {
     "name": "stdin",
     "output_type": "stream",
     "text": [
      "Post code:  2000\n"
     ]
    }
   ],
   "source": [
    "post_code = int(input(\"Post code: \"))"
   ]
  },
  {
   "cell_type": "code",
   "execution_count": 56,
   "id": "alternative-reserve",
   "metadata": {},
   "outputs": [],
   "source": [
    "house_address = f'{street_name} {house_number} {post_code}' # Will be use for the title of the 3D plot later on"
   ]
  },
  {
   "cell_type": "code",
   "execution_count": 57,
   "id": "suited-baseline",
   "metadata": {},
   "outputs": [],
   "source": [
    "# Address request to the basisregisters Vlaanderen API\n",
    "\n",
    "# HTTP request to the API\n",
    "address = requests.get(\"https://api.basisregisters.vlaanderen.be/v1/adresmatch\",\n",
    "                      params={'postcode': post_code, 'straatnaam': street_name, 'huisnummer':house_number})\n",
    "\n",
    "request = address.json() # Convert http request's response into json format"
   ]
  },
  {
   "cell_type": "code",
   "execution_count": 58,
   "id": "important-metro",
   "metadata": {},
   "outputs": [],
   "source": [
    "def get_coordinates(request):\n",
    "    \"\"\"\n",
    "    Function that get the geospatial coordinates and separate the latitude and longitude\n",
    "    in two different lists (lat, lon).\n",
    "    \"\"\"\n",
    "\n",
    "    request = request['adresMatches'][0]\n",
    "    \n",
    "    norm = pd.json_normalize(request)\n",
    "    norm = norm.loc[0,'adresseerbareObjecten']\n",
    "    block_url = norm[0].get('detail')\n",
    "    block_url\n",
    "    \n",
    "    # Second request\n",
    "    address = requests.get(block_url)\n",
    "    block_details = address.json()\n",
    "    block_details\n",
    "    \n",
    "    building = block_details.get('gebouw')\n",
    "    url_house = building.get('detail')\n",
    "    \n",
    "    # Third request\n",
    "    house = requests.get(url_house)\n",
    "    house_details = house.json()\n",
    "\n",
    "\n",
    "    df = pd.json_normalize(house_details) # Convert the json format into a Pandas DataFrame\n",
    "    \n",
    "    house_coordinates = df.loc[0,'geometriePolygoon.polygon.coordinates']\n",
    "    lat_lon = []\n",
    "\n",
    "    # Write geometry coordinates to a list\n",
    "    for list in house_coordinates:\n",
    "        for sublist in list:\n",
    "            for coordinates in sublist:\n",
    "                print(coordinates, end='\\n')\n",
    "                lat_lon.append(coordinates)\n",
    "\n",
    "    lat = []\n",
    "    lon = []\n",
    "\n",
    "    for i, coords in enumerate(lat_lon):\n",
    "        if i % 2 == 0:\n",
    "            lat.append(coords)\n",
    "        else:\n",
    "            lon.append(coords)\n",
    "\n",
    "    return lat, lon"
   ]
  },
  {
   "cell_type": "code",
   "execution_count": 59,
   "id": "interstate-target",
   "metadata": {},
   "outputs": [
    {
     "name": "stdout",
     "output_type": "stream",
     "text": [
      "151290.9148921445\n",
      "210548.07995613664\n",
      "151286.9813241437\n",
      "210555.69122014195\n",
      "151275.0793081373\n",
      "210549.45320414007\n",
      "151296.962188147\n",
      "210506.94818010926\n",
      "151294.24314814806\n",
      "210505.55118810758\n",
      "151292.06017214805\n",
      "210509.80219611153\n",
      "151289.05921214074\n",
      "210508.2212041095\n",
      "151292.0021881461\n",
      "210502.4901961051\n",
      "151291.83918014914\n",
      "210502.39816410467\n",
      "151293.72417214513\n",
      "210498.72418010235\n",
      "151297.5501561463\n",
      "210500.6871881038\n",
      "151296.65518014878\n",
      "210502.43118810654\n",
      "151298.74618814886\n",
      "210503.5042121075\n",
      "151303.9821561575\n",
      "210493.3402440995\n",
      "151298.93262015283\n",
      "210490.58216409758\n",
      "151293.97774014622\n",
      "210487.65742809698\n",
      "151289.1231481433\n",
      "210484.5691720955\n",
      "151254.37127611786\n",
      "210537.43016412854\n",
      "151243.07924411446\n",
      "210530.0021321252\n",
      "151269.3831161335\n",
      "210490.0061000958\n",
      "151266.79514812678\n",
      "210488.29915609583\n",
      "151264.21914812922\n",
      "210492.3021641001\n",
      "151261.36417212337\n",
      "210490.46408409625\n",
      "151264.92014012486\n",
      "210485.05314009264\n",
      "151264.75316412747\n",
      "210484.94312409312\n",
      "151267.0621561259\n",
      "210481.43310809135\n",
      "151270.65415613353\n",
      "210483.7961160913\n",
      "151269.57716412842\n",
      "210485.43413209543\n",
      "151271.54017212987\n",
      "210486.72514009476\n",
      "151277.8101241365\n",
      "210477.19112408906\n",
      "151273.0727161318\n",
      "210473.91714008525\n",
      "151268.44244413078\n",
      "210470.49333208427\n",
      "151263.92410812527\n",
      "210466.92309208214\n",
      "151223.83924409747\n",
      "210515.8420681171\n",
      "151213.48321209103\n",
      "210507.22203610837\n",
      "151243.76807611436\n",
      "210470.18907608464\n",
      "151241.3801081106\n",
      "210468.33006808162\n",
      "151238.3401081115\n",
      "210471.9850440845\n",
      "151235.75713210553\n",
      "210469.83701208234\n",
      "151239.82106810808\n",
      "210464.85307608172\n",
      "151239.66708411276\n",
      "210464.72603607923\n",
      "151242.3061241135\n",
      "210461.51202007756\n",
      "151245.6181241125\n",
      "210464.21902807802\n",
      "151244.35207611322\n",
      "210465.76808407903\n",
      "151246.16007611156\n",
      "210467.2820680812\n",
      "151256.93006011844\n",
      "210454.15310807154\n",
      "151257.48705212027\n",
      "210454.61006807163\n",
      "151264.83002812415\n",
      "210445.67406806722\n",
      "151263.7130361274\n",
      "210445.10210006684\n",
      "151264.40404412895\n",
      "210443.75810006633\n",
      "151266.02241212875\n",
      "210440.6116040647\n",
      "151276.0019961372\n",
      "210421.2087240517\n",
      "151278.55495613813\n",
      "210416.24514004588\n",
      "151279.2459641397\n",
      "210414.90210004523\n",
      "151280.44500413537\n",
      "210415.51912404597\n",
      "151283.32692413777\n",
      "210404.86510803923\n",
      "151282.87297213823\n",
      "210404.73608404025\n",
      "151283.02798014134\n",
      "210404.1891400367\n",
      "151282.7869561389\n",
      "210404.1230920367\n",
      "151286.4499321431\n",
      "210390.75810002908\n",
      "151283.50190013647\n",
      "210389.95010002702\n",
      "151282.3199481368\n",
      "210394.45307603106\n",
      "151279.06990014017\n",
      "210393.59912402928\n",
      "151280.68692413718\n",
      "210387.44507602602\n",
      "151280.49793213606\n",
      "210387.39406802505\n",
      "151281.6019321382\n",
      "210383.32206802443\n",
      "151285.72890814394\n",
      "210384.48110802472\n",
      "151285.2268921435\n",
      "210386.31611602753\n",
      "151287.54593214393\n",
      "210386.95112402737\n",
      "151299.76980414987\n",
      "210342.15009999648\n",
      "151296.8338041529\n",
      "210341.3561159931\n",
      "151295.5958521515\n",
      "210345.93307599798\n",
      "151292.31380414963\n",
      "210345.0450759977\n",
      "151293.99681214988\n",
      "210338.8251079917\n",
      "151293.8048121482\n",
      "210338.77013199404\n",
      "151294.4028281495\n",
      "210336.67707599327\n",
      "151301.04378814995\n",
      "210338.4691399932\n",
      "151301.8988281563\n",
      "210335.65409998968\n",
      "151301.65780415386\n",
      "210335.58811599016\n",
      "151312.07169216126\n",
      "210297.40315596387\n",
      "151325.0377081707\n",
      "210300.9661639668\n",
      "151297.2429561466\n",
      "210402.44213203713\n",
      "151301.39943615347\n",
      "210403.6236360371\n",
      "151305.52129215747\n",
      "210404.92098003998\n",
      "151309.6051961556\n",
      "210406.33320403844\n",
      "151313.64794816077\n",
      "210407.8592200391\n",
      "151316.70094016194\n",
      "210400.04718803614\n",
      "151313.86894015968\n",
      "210398.9412040338\n",
      "151312.137932159\n",
      "210403.37518803775\n",
      "151308.95194815844\n",
      "210402.1311560385\n",
      "151311.29991615564\n",
      "210396.11918803304\n",
      "151311.11393216252\n",
      "210396.0452040322\n",
      "151312.64794816077\n",
      "210392.15918802842\n",
      "151316.6339321658\n",
      "210393.70018003136\n",
      "151315.91194815934\n",
      "210395.56520403177\n",
      "151318.1019641608\n",
      "210396.41518803313\n",
      "151335.02983617783\n",
      "210353.0652360022\n",
      "151332.20583617687\n",
      "210351.96520400047\n",
      "151330.47182017565\n",
      "210356.4201800041\n",
      "151327.3028601706\n",
      "210355.1861960031\n",
      "151329.63982017338\n",
      "210349.18721999973\n",
      "151329.45281217247\n",
      "210349.1152199991\n",
      "151330.24679617584\n",
      "210347.0491719991\n",
      "151336.46081217378\n",
      "210349.4192200005\n",
      "151354.9937401861\n",
      "210302.05121996626\n",
      "151367.5647481978\n",
      "210306.93326796964\n",
      "151326.24295616895\n",
      "210412.7832520455\n",
      "151330.25614017248\n",
      "210414.40021204576\n",
      "151334.22074817866\n",
      "210416.13288404793\n",
      "151338.13345217705\n",
      "210417.97973204777\n",
      "151341.99098818004\n",
      "210419.93928404897\n",
      "151345.89895617962\n",
      "210412.37026004493\n",
      "151343.19495618343\n",
      "210410.95925204456\n",
      "151340.93594817817\n",
      "210415.2882760465\n",
      "151337.90394818038\n",
      "210413.70523604378\n",
      "151340.8849401772\n",
      "210407.99323604256\n",
      "151340.70695617795\n",
      "210407.90222804248\n",
      "151342.62894017994\n",
      "210404.15624403954\n",
      "151346.44398018718\n",
      "210406.12827603891\n",
      "151345.53895618021\n",
      "210407.87829203904\n",
      "151347.91297218204\n",
      "210409.07726804167\n",
      "151368.97185219824\n",
      "210367.6743240133\n",
      "151366.24583619833\n",
      "210366.2613320127\n",
      "151364.04583619535\n",
      "210370.50427601486\n",
      "151361.02689219266\n",
      "210368.9382600151\n",
      "151363.99284419417\n",
      "210363.22030800954\n",
      "151363.81588419527\n",
      "210363.12731600925\n",
      "151365.86484419554\n",
      "210359.21026000753\n",
      "151369.65985219926\n",
      "210361.2043080069\n",
      "151368.63687619567\n",
      "210363.15131600946\n",
      "151370.9808761999\n",
      "210364.29429201037\n",
      "151373.0418682024\n",
      "210360.29429200664\n",
      "151372.81985220313\n",
      "210360.17928400636\n",
      "151401.86874822527\n",
      "210304.0583239682\n",
      "151413.84570822865\n",
      "210310.21237197146\n",
      "151379.79322820902\n",
      "210376.10286802053\n",
      "151374.33082820475\n",
      "210386.67240402475\n",
      "151374.21626820415\n",
      "210386.8941000253\n",
      "151342.13505218178\n",
      "210448.97026006877\n",
      "151338.96750018\n",
      "210455.09986007214\n",
      "151338.3703161776\n",
      "210456.2554440759\n",
      "151331.59278017282\n",
      "210469.37077208236\n",
      "151328.89582017064\n",
      "210474.58965208754\n",
      "151327.88212417066\n",
      "210476.55125208944\n",
      "151295.96801214665\n",
      "210538.30299613252\n",
      "151290.9148921445\n",
      "210548.07995613664\n"
     ]
    }
   ],
   "source": [
    "lat, lon = get_coordinates(request)"
   ]
  },
  {
   "cell_type": "markdown",
   "id": "packed-conjunction",
   "metadata": {},
   "source": [
    "## 3. Creation of the polygon"
   ]
  },
  {
   "cell_type": "code",
   "execution_count": 60,
   "id": "organic-luxury",
   "metadata": {},
   "outputs": [
    {
     "data": {
      "image/svg+xml": [
       "<svg xmlns=\"http://www.w3.org/2000/svg\" xmlns:xlink=\"http://www.w3.org/1999/xlink\" width=\"221.02554127183976\" height=\"278.9511093123001\" viewBox=\"151203.15168952392 210287.07163339676 221.02554127183976 278.9511093123001\" preserveAspectRatio=\"xMinYMin meet\"><g transform=\"matrix(1,0,0,-1,0,420853.0943761058)\"><path fill-rule=\"evenodd\" fill=\"#66cc99\" stroke=\"#555555\" stroke-width=\"2.0\" opacity=\"0.6\" d=\"M 151290.9148921445,210548.07995613664 L 151286.9813241437,210555.69122014195 L 151275.0793081373,210549.45320414007 L 151296.962188147,210506.94818010926 L 151294.24314814806,210505.55118810758 L 151292.06017214805,210509.80219611153 L 151289.05921214074,210508.2212041095 L 151292.0021881461,210502.4901961051 L 151291.83918014914,210502.39816410467 L 151293.72417214513,210498.72418010235 L 151297.5501561463,210500.6871881038 L 151296.65518014878,210502.43118810654 L 151298.74618814886,210503.5042121075 L 151303.9821561575,210493.3402440995 L 151298.93262015283,210490.58216409758 L 151293.97774014622,210487.65742809698 L 151289.1231481433,210484.5691720955 L 151254.37127611786,210537.43016412854 L 151243.07924411446,210530.0021321252 L 151269.3831161335,210490.0061000958 L 151266.79514812678,210488.29915609583 L 151264.21914812922,210492.3021641001 L 151261.36417212337,210490.46408409625 L 151264.92014012486,210485.05314009264 L 151264.75316412747,210484.94312409312 L 151267.0621561259,210481.43310809135 L 151270.65415613353,210483.7961160913 L 151269.57716412842,210485.43413209543 L 151271.54017212987,210486.72514009476 L 151277.8101241365,210477.19112408906 L 151273.0727161318,210473.91714008525 L 151268.44244413078,210470.49333208427 L 151263.92410812527,210466.92309208214 L 151223.83924409747,210515.8420681171 L 151213.48321209103,210507.22203610837 L 151243.76807611436,210470.18907608464 L 151241.3801081106,210468.33006808162 L 151238.3401081115,210471.9850440845 L 151235.75713210553,210469.83701208234 L 151239.82106810808,210464.85307608172 L 151239.66708411276,210464.72603607923 L 151242.3061241135,210461.51202007756 L 151245.6181241125,210464.21902807802 L 151244.35207611322,210465.76808407903 L 151246.16007611156,210467.2820680812 L 151256.93006011844,210454.15310807154 L 151257.48705212027,210454.61006807163 L 151264.83002812415,210445.67406806722 L 151263.7130361274,210445.10210006684 L 151264.40404412895,210443.75810006633 L 151266.02241212875,210440.6116040647 L 151276.0019961372,210421.2087240517 L 151278.55495613813,210416.24514004588 L 151279.2459641397,210414.90210004523 L 151280.44500413537,210415.51912404597 L 151283.32692413777,210404.86510803923 L 151282.87297213823,210404.73608404025 L 151283.02798014134,210404.1891400367 L 151282.7869561389,210404.1230920367 L 151286.4499321431,210390.75810002908 L 151283.50190013647,210389.95010002702 L 151282.3199481368,210394.45307603106 L 151279.06990014017,210393.59912402928 L 151280.68692413718,210387.44507602602 L 151280.49793213606,210387.39406802505 L 151281.6019321382,210383.32206802443 L 151285.72890814394,210384.48110802472 L 151285.2268921435,210386.31611602753 L 151287.54593214393,210386.95112402737 L 151299.76980414987,210342.15009999648 L 151296.8338041529,210341.3561159931 L 151295.5958521515,210345.93307599798 L 151292.31380414963,210345.0450759977 L 151293.99681214988,210338.8251079917 L 151293.8048121482,210338.77013199404 L 151294.4028281495,210336.67707599327 L 151301.04378814995,210338.4691399932 L 151301.8988281563,210335.65409998968 L 151301.65780415386,210335.58811599016 L 151312.07169216126,210297.40315596387 L 151325.0377081707,210300.9661639668 L 151297.2429561466,210402.44213203713 L 151301.39943615347,210403.6236360371 L 151305.52129215747,210404.92098003998 L 151309.6051961556,210406.33320403844 L 151313.64794816077,210407.8592200391 L 151316.70094016194,210400.04718803614 L 151313.86894015968,210398.9412040338 L 151312.137932159,210403.37518803775 L 151308.95194815844,210402.1311560385 L 151311.29991615564,210396.11918803304 L 151311.11393216252,210396.0452040322 L 151312.64794816077,210392.15918802842 L 151316.6339321658,210393.70018003136 L 151315.91194815934,210395.56520403177 L 151318.1019641608,210396.41518803313 L 151335.02983617783,210353.0652360022 L 151332.20583617687,210351.96520400047 L 151330.47182017565,210356.4201800041 L 151327.3028601706,210355.1861960031 L 151329.63982017338,210349.18721999973 L 151329.45281217247,210349.1152199991 L 151330.24679617584,210347.0491719991 L 151336.46081217378,210349.4192200005 L 151354.9937401861,210302.05121996626 L 151367.5647481978,210306.93326796964 L 151326.24295616895,210412.7832520455 L 151330.25614017248,210414.40021204576 L 151334.22074817866,210416.13288404793 L 151338.13345217705,210417.97973204777 L 151341.99098818004,210419.93928404897 L 151345.89895617962,210412.37026004493 L 151343.19495618343,210410.95925204456 L 151340.93594817817,210415.2882760465 L 151337.90394818038,210413.70523604378 L 151340.8849401772,210407.99323604256 L 151340.70695617795,210407.90222804248 L 151342.62894017994,210404.15624403954 L 151346.44398018718,210406.12827603891 L 151345.53895618021,210407.87829203904 L 151347.91297218204,210409.07726804167 L 151368.97185219824,210367.6743240133 L 151366.24583619833,210366.2613320127 L 151364.04583619535,210370.50427601486 L 151361.02689219266,210368.9382600151 L 151363.99284419417,210363.22030800954 L 151363.81588419527,210363.12731600925 L 151365.86484419554,210359.21026000753 L 151369.65985219926,210361.2043080069 L 151368.63687619567,210363.15131600946 L 151370.9808761999,210364.29429201037 L 151373.0418682024,210360.29429200664 L 151372.81985220313,210360.17928400636 L 151401.86874822527,210304.0583239682 L 151413.84570822865,210310.21237197146 L 151379.79322820902,210376.10286802053 L 151374.33082820475,210386.67240402475 L 151374.21626820415,210386.8941000253 L 151342.13505218178,210448.97026006877 L 151338.96750018,210455.09986007214 L 151338.3703161776,210456.2554440759 L 151331.59278017282,210469.37077208236 L 151328.89582017064,210474.58965208754 L 151327.88212417066,210476.55125208944 L 151295.96801214665,210538.30299613252 L 151290.9148921445,210548.07995613664 z\" /></g></svg>"
      ],
      "text/plain": [
       "<shapely.geometry.polygon.Polygon at 0x7f0bfdf453d0>"
      ]
     },
     "execution_count": 60,
     "metadata": {},
     "output_type": "execute_result"
    }
   ],
   "source": [
    "polygon_geometry = Polygon(zip(lat, lon)) # Geometry\n",
    "polygon = gpd.GeoDataFrame(index=[0], crs='epsg:31370', geometry=[polygon_geometry])\n",
    "\n",
    "polygon_geometry"
   ]
  },
  {
   "cell_type": "markdown",
   "id": "copyrighted-academy",
   "metadata": {},
   "source": [
    "## 4. Selection of the raster"
   ]
  },
  {
   "cell_type": "markdown",
   "id": "attended-perfume",
   "metadata": {},
   "source": [
    "All the rasters are located in the local drive and separated in two distincts folders (/DSM and /DTM)"
   ]
  },
  {
   "cell_type": "code",
   "execution_count": 61,
   "id": "federal-success",
   "metadata": {},
   "outputs": [],
   "source": [
    "def get_raster_number(coordinates):\n",
    "    \"\"\"\n",
    "    Function that select the correct raster based on the coordinates of the address.\n",
    "    \"\"\"\n",
    "    \n",
    "    df = pd.read_csv('Utils/rasters_lambert_coordinates.csv') # Load the csv file\n",
    "    \n",
    "\n",
    "    # Search for the correct raster\n",
    "    raster = df[(df['Left'] < coordinates[0]) & (df['Right'] > coordinates[0])\n",
    "       & ((df['Bottom'] < coordinates[1]) & (df['Top'] > coordinates[1]))]\n",
    "    \n",
    "    num_raster = raster['Raster'].item() # Raster number\n",
    "    \n",
    "    return num_raster"
   ]
  },
  {
   "cell_type": "code",
   "execution_count": 62,
   "id": "regulation-challenge",
   "metadata": {},
   "outputs": [
    {
     "data": {
      "text/plain": [
       "'/media/ms/Seagate Expansion Drive/BECODE/Rasters/DSM/DHMVIIDSMRAS1m_k15.tif'"
      ]
     },
     "execution_count": 62,
     "metadata": {},
     "output_type": "execute_result"
    }
   ],
   "source": [
    "# Raster number\n",
    "number = get_raster_number([lat[0],lon[0]])\n",
    "\n",
    "path_DSM = f\"/media/ms/Seagate Expansion Drive/BECODE/Rasters/DSM/DHMVIIDSMRAS1m_k{number}.tif\"  \n",
    "path_DTM = f\"/media/ms/Seagate Expansion Drive/BECODE/Rasters/DTM/DHMVIIDTMRAS1m_k{number}.tif\"\n",
    "path_DSM"
   ]
  },
  {
   "cell_type": "markdown",
   "id": "republican-sleep",
   "metadata": {},
   "source": [
    "## 5. Masking the DSM and DTM"
   ]
  },
  {
   "cell_type": "code",
   "execution_count": 63,
   "id": "wicked-playback",
   "metadata": {},
   "outputs": [],
   "source": [
    "def mask_rasters(DSM_path:str, DTM_path:str) -> str:\n",
    "    \n",
    "    # Open DTM and DSM rasters\n",
    "    raster_DTM = rasterio.open(DTM_path)\n",
    "    raster_DSM = rasterio.open(DSM_path)\n",
    "\n",
    "\n",
    "    # Crop of the DTM raster based on the polygon geometry\n",
    "    masked_DTM, masked_transform_DTM = mask(dataset=raster_DTM, shapes=polygon.geometry, crop=True, pad=True) \n",
    "\n",
    "\n",
    "    # Crop of the DSM raster based on the polygon geometry\n",
    "    masked_DSM, masked_transform_DSM = mask(dataset=raster_DSM, shapes=polygon.geometry, crop=True, pad=True) \n",
    "\n",
    "    global profile\n",
    "    profile = raster_DTM.meta.copy()\n",
    "\n",
    "    width = masked_DTM.shape[2]\n",
    "    height = masked_DTM.shape[1]\n",
    "    profile.update(drivers='GTiff', transform=masked_transform_DTM, height=height, width=width)\n",
    "\n",
    "    print(profile)\n",
    "\n",
    "    # Create a new file \"masked_DSM.tif\" and saving it into the local drive\n",
    "    with rasterio.open(\"/home/ms/BeCode/Projects/3D-house-Project/masked_DSM.tif\", 'w', **profile) as dst:\n",
    "        dst.write(masked_DSM) \n",
    "    \n",
    "    # Create a new file \"masked_DTM.tif\" and saving it into the local drive    \n",
    "    with rasterio.open(\"/home/ms/BeCode/Projects/3D-house-Project/masked_DTM.tif\", 'w', **profile) as dst:\n",
    "        dst.write(masked_DTM) # Save the masked DTM"
   ]
  },
  {
   "cell_type": "code",
   "execution_count": 64,
   "id": "parliamentary-budget",
   "metadata": {},
   "outputs": [
    {
     "name": "stdout",
     "output_type": "stream",
     "text": [
      "{'driver': 'GTiff', 'dtype': 'float32', 'nodata': -9999.0, 'width': 203, 'height': 261, 'count': 1, 'crs': CRS.from_epsg(31370), 'transform': Affine(1.0, 0.0, 151212.0,\n",
      "       0.0, -1.0, 210557.0), 'drivers': 'GTiff'}\n"
     ]
    }
   ],
   "source": [
    "mask_rasters(path_DSM, path_DTM)"
   ]
  },
  {
   "cell_type": "markdown",
   "id": "domestic-affiliation",
   "metadata": {},
   "source": [
    "## 6. Creation of the CHM (Canopy Height Model)"
   ]
  },
  {
   "cell_type": "code",
   "execution_count": 65,
   "id": "instant-dollar",
   "metadata": {},
   "outputs": [],
   "source": [
    "def Build_CHM():\n",
    "    \n",
    "    m_DTM = rasterio.open('masked_DTM.tif')\n",
    "    m_DSM = rasterio.open('masked_DSM.tif')\n",
    "\n",
    "    DSM_array = m_DSM.read(1)\n",
    "    DTM_array = m_DTM.read(1)\n",
    "    raster_CHM = DSM_array - DTM_array # Canopy Height Model (CHM) = (DSM - DTM)\n",
    "    show(raster_CHM)\n",
    "\n",
    "    print(profile)\n",
    "\n",
    "     # Create a new file \"CHM.tif\" and save it into the local drive\n",
    "    with rasterio.open(\"/home/ms/BeCode/Projects/3D-house-Project/CHM.tif\", 'w', **profile) as dst:\n",
    "        dst.write(raster_CHM, 1)"
   ]
  },
  {
   "cell_type": "code",
   "execution_count": 66,
   "id": "artistic-coach",
   "metadata": {},
   "outputs": [
    {
     "data": {
      "image/png": "[encoded data removed]",
      "text/plain": [
       "<Figure size 432x288 with 1 Axes>"
      ]
     },
     "metadata": {
      "needs_background": "light"
     },
     "output_type": "display_data"
    },
    {
     "name": "stdout",
     "output_type": "stream",
     "text": [
      "{'driver': 'GTiff', 'dtype': 'float32', 'nodata': -9999.0, 'width': 203, 'height': 261, 'count': 1, 'crs': CRS.from_epsg(31370), 'transform': Affine(1.0, 0.0, 151212.0,\n",
      "       0.0, -1.0, 210557.0), 'drivers': 'GTiff'}\n"
     ]
    }
   ],
   "source": [
    "Build_CHM()"
   ]
  },
  {
   "cell_type": "markdown",
   "id": "instant-leonard",
   "metadata": {},
   "source": [
    "## 7. 3D Plot"
   ]
  },
  {
   "cell_type": "markdown",
   "id": "twenty-fusion",
   "metadata": {},
   "source": [
    "The library used is **plotly**. The 3D Surface plot opens in the browser in a new tab."
   ]
  },
  {
   "cell_type": "code",
   "execution_count": 67,
   "id": "composite-respect",
   "metadata": {},
   "outputs": [],
   "source": [
    "def Plot_3d():\n",
    "    CHM = rasterio.open('CHM.tif')\n",
    "    CHM_array = CHM.read(1) # Convert the raster into a Numpy array\n",
    "\n",
    "    #Plot\n",
    "    fig = go.Figure(data=[go.Surface(z=CHM_array)]) # Create the figure from the CHM array\n",
    "    fig.update_layout(title=f'3D Plot - {house_address}', title_x=0.5,\n",
    "                    scene = dict(\n",
    "                    xaxis_title='Distance (m)',\n",
    "                    yaxis_title='Distance (m)',\n",
    "                    zaxis_title='Height'),\n",
    "                    font=dict(\n",
    "                    family=\"Courier New, monospace\",\n",
    "                    size=18,\n",
    "                    color=\"RebeccaPurple\"))\n",
    "    fig.update_scenes(yaxis_autorange=\"reversed\")\n",
    "\n",
    "    plot(fig) # Plot the house in new tab"
   ]
  },
  {
   "cell_type": "code",
   "execution_count": 68,
   "id": "metropolitan-initial",
   "metadata": {},
   "outputs": [],
   "source": [
    "Plot_3d()"
   ]
  },
  {
   "cell_type": "code",
   "execution_count": null,
   "id": "unnecessary-psychology",
   "metadata": {},
   "outputs": [],
   "source": []
  },
  {
   "cell_type": "code",
   "execution_count": null,
   "id": "considered-angle",
   "metadata": {},
   "outputs": [],
   "source": []
  },
  {
   "cell_type": "code",
   "execution_count": null,
   "id": "dated-genetics",
   "metadata": {},
   "outputs": [],
   "source": []
  },
  {
   "cell_type": "code",
   "execution_count": null,
   "id": "prospective-emphasis",
   "metadata": {},
   "outputs": [],
   "source": []
  },
  {
   "cell_type": "code",
   "execution_count": null,
   "id": "selected-penetration",
   "metadata": {},
   "outputs": [],
   "source": []
  },
  {
   "cell_type": "code",
   "execution_count": null,
   "id": "critical-insulation",
   "metadata": {},
   "outputs": [],
   "source": []
  },
  {
   "cell_type": "code",
   "execution_count": null,
   "id": "working-death",
   "metadata": {},
   "outputs": [],
   "source": []
  },
  {
   "cell_type": "code",
   "execution_count": null,
   "id": "czech-component",
   "metadata": {},
   "outputs": [],
   "source": []
  },
  {
   "cell_type": "code",
   "execution_count": null,
   "id": "transsexual-court",
   "metadata": {},
   "outputs": [],
   "source": []
  },
  {
   "cell_type": "code",
   "execution_count": null,
   "id": "supreme-concord",
   "metadata": {},
   "outputs": [],
   "source": []
  },
  {
   "cell_type": "code",
   "execution_count": null,
   "id": "cordless-center",
   "metadata": {},
   "outputs": [],
   "source": []
  },
  {
   "cell_type": "code",
   "execution_count": null,
   "id": "stock-local",
   "metadata": {},
   "outputs": [],
   "source": []
  }
 ],
 "metadata": {
  "kernelspec": {
   "display_name": "Python 3",
   "language": "python",
   "name": "python3"
  },
  "language_info": {
   "codemirror_mode": {
    "name": "ipython",
    "version": 3
   },
   "file_extension": ".py",
   "mimetype": "text/x-python",
   "name": "python",
   "nbconvert_exporter": "python",
   "pygments_lexer": "ipython3",
   "version": "3.8.5"
  }
 },
 "nbformat": 4,
 "nbformat_minor": 5
}
