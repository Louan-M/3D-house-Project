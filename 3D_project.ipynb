{
 "cells": [
  {
   "cell_type": "markdown",
   "id": "wrapped-fifth",
   "metadata": {},
   "source": [
    "# 3D House project"
   ]
  },
  {
   "cell_type": "markdown",
   "id": "introductory-printing",
   "metadata": {},
   "source": [
    "This project consists of plotting an interactive 3D Surface Graph of a house, based on the address provided. The region covered is the region of Flanders (Belgium)."
   ]
  },
  {
   "cell_type": "markdown",
   "id": "interior-english",
   "metadata": {},
   "source": [
    "The data are *Lidar* data. The region is divided into 43 rasters. Each raster is in the format **.tif** . This program will select the correct raster after getting from an API the geospatial coordinates corresponding to the address of the house."
   ]
  },
  {
   "cell_type": "markdown",
   "id": "norman-beginning",
   "metadata": {},
   "source": [
    "## 1. Libraries"
   ]
  },
  {
   "cell_type": "code",
   "execution_count": 2,
   "id": "diverse-jerusalem",
   "metadata": {},
   "outputs": [],
   "source": [
    "import geopandas as gpd\n",
    "from shapely.geometry import Polygon\n",
    "\n",
    "import rasterio # Tif files\n",
    "import os\n",
    "import numpy as np\n",
    "import pandas as pd\n",
    "\n",
    "import plotly.graph_objects as go\n",
    "import matplotlib.pyplot as plt\n",
    "%matplotlib inline\n",
    "from plotly.offline import download_plotlyjs, init_notebook_mode, plot\n",
    "from plotly.graph_objs import *\n",
    "from rasterio.plot import show\n",
    "from rasterio.mask import mask\n",
    "\n",
    "import requests\n",
    "import json"
   ]
  },
  {
   "cell_type": "markdown",
   "id": "suitable-values",
   "metadata": {},
   "source": [
    "## 2. Address and coordinates"
   ]
  },
  {
   "cell_type": "code",
   "execution_count": 3,
   "id": "higher-newfoundland",
   "metadata": {},
   "outputs": [
    {
     "name": "stdin",
     "output_type": "stream",
     "text": [
      "Street name:  Sint-Pietersvliet\n"
     ]
    }
   ],
   "source": [
    "street_name = input(\"Street name: \")"
   ]
  },
  {
   "cell_type": "code",
   "execution_count": 4,
   "id": "occupational-cooperation",
   "metadata": {},
   "outputs": [
    {
     "name": "stdin",
     "output_type": "stream",
     "text": [
      "House number:  7\n"
     ]
    }
   ],
   "source": [
    "house_number = int(input(\"House number: \"))"
   ]
  },
  {
   "cell_type": "code",
   "execution_count": 5,
   "id": "unable-color",
   "metadata": {},
   "outputs": [
    {
     "name": "stdin",
     "output_type": "stream",
     "text": [
      "Post code:  2000\n"
     ]
    }
   ],
   "source": [
    "post_code = int(input(\"Post code: \"))"
   ]
  },
  {
   "cell_type": "code",
   "execution_count": 6,
   "id": "lasting-membership",
   "metadata": {},
   "outputs": [],
   "source": [
    "house_address = f'{street_name} {house_number} {post_code}' # Will be use for the title of the 3D plot later on"
   ]
  },
  {
   "cell_type": "code",
   "execution_count": 7,
   "id": "still-quarterly",
   "metadata": {},
   "outputs": [],
   "source": [
    "# Address request to the basisregisters Vlaanderen API\n",
    "\n",
    "# HTTP request to the API\n",
    "address = requests.get(\"https://api.basisregisters.vlaanderen.be/v1/adresmatch\",\n",
    "                      params={'postcode': post_code, 'straatnaam': street_name, 'huisnummer':house_number})\n",
    "\n",
    "address = address.json() # Convert http request's response into json format"
   ]
  },
  {
   "cell_type": "code",
   "execution_count": 8,
   "id": "british-narrative",
   "metadata": {},
   "outputs": [],
   "source": [
    "def get_coordinates(address):\n",
    "    \"\"\"\n",
    "    Function that get the geospatial coordinates and separate the latitude and longitude\n",
    "    in two different lists (lat, lon).\n",
    "    \"\"\"\n",
    "\n",
    "    address = address['adresMatches'][0]\n",
    "    \n",
    "    norm = pd.json_normalize(address)\n",
    "    norm = norm.loc[0,'adresseerbareObjecten']\n",
    "    block_url = norm[0].get('detail')\n",
    "    block_url\n",
    "    \n",
    "    # Second request\n",
    "    address = requests.get(block_url)\n",
    "    block_details = address.json()\n",
    "    block_details\n",
    "    \n",
    "    building = block_details.get('gebouw')\n",
    "    url_house = building.get('detail')\n",
    "    \n",
    "    # Third request\n",
    "    house = requests.get(url_house)\n",
    "    house_details = house.json()\n",
    "\n",
    "\n",
    "    df = pd.json_normalize(house_details) # Convert the json format into a Pandas DataFrame\n",
    "    \n",
    "    house_coordinates = df.loc[0,'geometriePolygoon.polygon.coordinates']\n",
    "    lat_lon = []\n",
    "\n",
    "    # Write geometry coordinates to a list\n",
    "    for list in house_coordinates:\n",
    "        for sublist in list:\n",
    "            for coordinates in sublist:\n",
    "                print(coordinates, end='\\n')\n",
    "                lat_lon.append(coordinates)\n",
    "\n",
    "    lat = []\n",
    "    lon = []\n",
    "\n",
    "    for i, coords in enumerate(lat_lon):\n",
    "        if i % 2 == 0:\n",
    "            lat.append(coords)\n",
    "        else:\n",
    "            lon.append(coords)\n",
    "\n",
    "    return lat, lon"
   ]
  },
  {
   "cell_type": "code",
   "execution_count": 9,
   "id": "unauthorized-clearing",
   "metadata": {},
   "outputs": [
    {
     "name": "stdout",
     "output_type": "stream",
     "text": [
      "152234.7539967969\n",
      "212884.87605375424\n",
      "152234.82894080132\n",
      "212884.9189977534\n",
      "152234.7067647949\n",
      "212885.13282175362\n",
      "152234.54202879965\n",
      "212885.42107775435\n",
      "152221.9368447885\n",
      "212878.215253748\n",
      "152216.66906878352\n",
      "212875.20392574742\n",
      "152215.47796478122\n",
      "212874.52302974463\n",
      "152215.7520127818\n",
      "212874.04302974418\n",
      "152215.85204478353\n",
      "212874.10197374597\n",
      "152216.04097278416\n",
      "212873.7709657438\n",
      "152225.4219647944\n",
      "212857.33397373557\n",
      "152225.34394878894\n",
      "212857.28994173557\n",
      "152231.24206079543\n",
      "212846.96808572486\n",
      "152231.36404479295\n",
      "212847.0380377248\n",
      "152246.52404480428\n",
      "212820.42696570978\n",
      "152246.43796480447\n",
      "212820.37493370846\n",
      "152246.70881280303\n",
      "212819.90990970656\n",
      "152246.73498880863\n",
      "212819.8649817072\n",
      "152246.9969408065\n",
      "212820.01717370749\n",
      "152247.5319168046\n",
      "212820.3279577084\n",
      "152249.9582208097\n",
      "212816.06210170686\n",
      "152251.11796481162\n",
      "212814.0229977034\n",
      "152251.02298881114\n",
      "212814.00994170457\n",
      "152251.31399680674\n",
      "212813.5079897046\n",
      "152268.9353088215\n",
      "212823.58363771066\n",
      "152268.96398082376\n",
      "212823.60002170876\n",
      "152268.93748482317\n",
      "212823.64891771227\n",
      "152268.69492482394\n",
      "212824.0969177112\n",
      "152268.59905282408\n",
      "212824.04501371086\n",
      "152267.0589568168\n",
      "212826.7189337127\n",
      "152264.98196481913\n",
      "212830.32507771626\n",
      "152265.57895682007\n",
      "212830.66510971636\n",
      "152265.7790208161\n",
      "212830.7790297158\n",
      "152265.76641281694\n",
      "212830.80117371678\n",
      "152265.50599681586\n",
      "212831.2580057159\n",
      "152265.41204481572\n",
      "212831.20398971438\n",
      "152255.79194881022\n",
      "212847.97896572575\n",
      "152255.90804481506\n",
      "212848.04699772596\n",
      "152253.85601281375\n",
      "212851.56002172828\n",
      "152253.7879808098\n",
      "212851.52002172917\n",
      "152250.20596481115\n",
      "212857.8059737347\n",
      "152250.2789888084\n",
      "212857.8480217345\n",
      "152246.09703680873\n",
      "212865.1149657406\n",
      "152246.01594880223\n",
      "212865.06894974038\n",
      "152244.21095680445\n",
      "212868.27803774178\n",
      "152244.29594880342\n",
      "212868.32699774206\n",
      "152242.26292480528\n",
      "212871.89698174223\n",
      "152242.18196479976\n",
      "212871.85096574202\n",
      "152234.7539967969\n",
      "212884.87605375424\n"
     ]
    }
   ],
   "source": [
    "lat, lon = get_coordinates(address)"
   ]
  },
  {
   "cell_type": "markdown",
   "id": "supported-mileage",
   "metadata": {},
   "source": [
    "## 3. Creation of the polygon"
   ]
  },
  {
   "cell_type": "code",
   "execution_count": 10,
   "id": "sixth-arrangement",
   "metadata": {},
   "outputs": [
    {
     "data": {
      "image/svg+xml": [
       "<svg xmlns=\"http://www.w3.org/2000/svg\" xmlns:xlink=\"http://www.w3.org/1999/xlink\" width=\"100.0\" height=\"100.0\" viewBox=\"152212.60144125923 212810.63146618262 59.23906308651203 77.6661350937211\" preserveAspectRatio=\"xMinYMin meet\"><g transform=\"matrix(1,0,0,-1,0,425698.92906745896)\"><path fill-rule=\"evenodd\" fill=\"#66cc99\" stroke=\"#555555\" stroke-width=\"1.553322701874422\" opacity=\"0.6\" d=\"M 152234.7539967969,212884.87605375424 L 152234.82894080132,212884.9189977534 L 152234.7067647949,212885.13282175362 L 152234.54202879965,212885.42107775435 L 152221.9368447885,212878.215253748 L 152216.66906878352,212875.20392574742 L 152215.47796478122,212874.52302974463 L 152215.7520127818,212874.04302974418 L 152215.85204478353,212874.10197374597 L 152216.04097278416,212873.7709657438 L 152225.4219647944,212857.33397373557 L 152225.34394878894,212857.28994173557 L 152231.24206079543,212846.96808572486 L 152231.36404479295,212847.0380377248 L 152246.52404480428,212820.42696570978 L 152246.43796480447,212820.37493370846 L 152246.70881280303,212819.90990970656 L 152246.73498880863,212819.8649817072 L 152246.9969408065,212820.01717370749 L 152247.5319168046,212820.3279577084 L 152249.9582208097,212816.06210170686 L 152251.11796481162,212814.0229977034 L 152251.02298881114,212814.00994170457 L 152251.31399680674,212813.5079897046 L 152268.9353088215,212823.58363771066 L 152268.96398082376,212823.60002170876 L 152268.93748482317,212823.64891771227 L 152268.69492482394,212824.0969177112 L 152268.59905282408,212824.04501371086 L 152267.0589568168,212826.7189337127 L 152264.98196481913,212830.32507771626 L 152265.57895682007,212830.66510971636 L 152265.7790208161,212830.7790297158 L 152265.76641281694,212830.80117371678 L 152265.50599681586,212831.2580057159 L 152265.41204481572,212831.20398971438 L 152255.79194881022,212847.97896572575 L 152255.90804481506,212848.04699772596 L 152253.85601281375,212851.56002172828 L 152253.7879808098,212851.52002172917 L 152250.20596481115,212857.8059737347 L 152250.2789888084,212857.8480217345 L 152246.09703680873,212865.1149657406 L 152246.01594880223,212865.06894974038 L 152244.21095680445,212868.27803774178 L 152244.29594880342,212868.32699774206 L 152242.26292480528,212871.89698174223 L 152242.18196479976,212871.85096574202 L 152234.7539967969,212884.87605375424 z\" /></g></svg>"
      ],
      "text/plain": [
       "<shapely.geometry.polygon.Polygon at 0x7f469e78d390>"
      ]
     },
     "execution_count": 10,
     "metadata": {},
     "output_type": "execute_result"
    }
   ],
   "source": [
    "polygon_geometry = Polygon(zip(lat, lon)) # Geometry\n",
    "polygon = gpd.GeoDataFrame(index=[0], crs='epsg:31370', geometry=[polygon_geometry])\n",
    "\n",
    "polygon_geometry"
   ]
  },
  {
   "cell_type": "markdown",
   "id": "senior-surge",
   "metadata": {},
   "source": [
    "## 4. Selection of the raster"
   ]
  },
  {
   "cell_type": "markdown",
   "id": "aggressive-topic",
   "metadata": {},
   "source": [
    "All the rasters are located in the local drive and separated in two distincts folders (/DSM and /DTM)"
   ]
  },
  {
   "cell_type": "code",
   "execution_count": 11,
   "id": "tamil-cherry",
   "metadata": {},
   "outputs": [],
   "source": [
    "def select_raster(coordinates):\n",
    "    \"\"\"\n",
    "    Function that select the correct raster based on the coordinates of the address.\n",
    "    \"\"\"\n",
    "    \n",
    "    df = pd.read_csv('Utils/rasters_lambert_coordinates.csv') # Load the csv file\n",
    "    \n",
    "\n",
    "    # Search for the correct raster\n",
    "    raster = df[(df['Left'] < coordinates[0]) & (df['Right'] > coordinates[0])\n",
    "       & ((df['Bottom'] < coordinates[1]) & (df['Top'] > coordinates[1]))]\n",
    "    \n",
    "    num_raster = raster['Raster'].item() # Raster number\n",
    "    \n",
    "    return num_raster"
   ]
  },
  {
   "cell_type": "code",
   "execution_count": 12,
   "id": "standard-drain",
   "metadata": {},
   "outputs": [],
   "source": [
    "# Return raster number\n",
    "raster_number = select_raster([lat[0],lon[0]])"
   ]
  },
  {
   "cell_type": "markdown",
   "id": "infinite-employee",
   "metadata": {},
   "source": [
    "## 5. Masking the DSM and DTM"
   ]
  },
  {
   "cell_type": "code",
   "execution_count": 13,
   "id": "pressed-order",
   "metadata": {},
   "outputs": [
    {
     "name": "stdout",
     "output_type": "stream",
     "text": [
      "{'driver': 'GTiff', 'dtype': 'float32', 'nodata': -9999.0, 'width': 54, 'height': 73, 'count': 1, 'crs': CRS.from_epsg(31370), 'transform': Affine(1.0, 0.0, 152215.0,\n",
      "       0.0, -1.0, 212886.0), 'drivers': 'GTiff'}\n"
     ]
    }
   ],
   "source": [
    "path_DSM = f\"/media/ms/Seagate Expansion Drive/BECODE/Rasters/DSM/DHMVIIDSMRAS1m_k{raster_number}.tif\"  \n",
    "path_DTM = f\"/media/ms/Seagate Expansion Drive/BECODE/Rasters/DTM/DHMVIIDTMRAS1m_k{raster_number}.tif\"\n",
    "path_DSM\n",
    "\n",
    "# Open DTM and DSM rasters\n",
    "raster_DTM = rasterio.open(path_DTM)\n",
    "raster_DSM = rasterio.open(path_DSM)\n",
    "\n",
    "\n",
    "# Crop of the DTM raster based on the polygon geometry\n",
    "masked_DTM, masked_transform_DTM = mask(dataset=raster_DTM, shapes=polygon.geometry, crop=True, filled=False) \n",
    "\n",
    "\n",
    "# Crop of the DSM raster based on the polygon geometry\n",
    "masked_DSM, masked_transform_DSM = mask(dataset=raster_DSM, shapes=polygon.geometry, crop=True, filled=False) \n",
    "\n",
    "profile = raster_DTM.meta.copy()\n",
    "\n",
    "width = masked_DTM.shape[2]\n",
    "height = masked_DTM.shape[1]\n",
    "profile.update(drivers='GTiff', transform=masked_transform_DTM, height=height, width=width)\n",
    "\n",
    "print(profile)\n",
    "\n",
    "# Create a new file \"masked_DSM.tif\" and saving it into the local drive\n",
    "with rasterio.open(\"/home/ms/BeCode/Projects/3D-house-Project/masked_DSM.tif\", 'w', **profile) as dst:\n",
    "    dst.write(masked_DSM) \n",
    "    \n",
    "# Create a new file \"masked_DTM.tif\" and saving it into the local drive    \n",
    "with rasterio.open(\"/home/ms/BeCode/Projects/3D-house-Project/masked_DTM.tif\", 'w', **profile) as dst:\n",
    "    dst.write(masked_DTM) # Save the masked DTM"
   ]
  },
  {
   "cell_type": "markdown",
   "id": "early-heath",
   "metadata": {},
   "source": [
    "## 6. Creation of the CHM (Canopy Height Model)"
   ]
  },
  {
   "cell_type": "code",
   "execution_count": 14,
   "id": "rapid-roommate",
   "metadata": {},
   "outputs": [
    {
     "data": {
      "image/png": "[encoded data removed]",
      "text/plain": [
       "<Figure size 432x288 with 1 Axes>"
      ]
     },
     "metadata": {
      "needs_background": "light"
     },
     "output_type": "display_data"
    },
    {
     "name": "stdout",
     "output_type": "stream",
     "text": [
      "{'driver': 'GTiff', 'dtype': 'float32', 'nodata': -9999.0, 'width': 54, 'height': 73, 'count': 1, 'crs': CRS.from_epsg(31370), 'transform': Affine(1.0, 0.0, 152215.0,\n",
      "       0.0, -1.0, 212886.0), 'drivers': 'GTiff'}\n"
     ]
    }
   ],
   "source": [
    "m_DTM = rasterio.open('masked_DTM.tif')\n",
    "m_DSM = rasterio.open('masked_DSM.tif')\n",
    "\n",
    "DSM_array = m_DSM.read(1)\n",
    "DTM_array = m_DTM.read(1)\n",
    "raster_CHM = DSM_array - DTM_array # Canopy Height Model (CHM) = (DSM - DTM)\n",
    "show(raster_CHM)\n",
    "\n",
    "print(profile)\n",
    "\n",
    "# # Create a new file \"CHM.tif\" and save it into the local drive\n",
    "with rasterio.open(\"/home/ms/BeCode/Projects/3D-house-Project/CHM.tif\", 'w', **profile) as dst:\n",
    "    dst.write(raster_CHM, 1)"
   ]
  },
  {
   "cell_type": "markdown",
   "id": "apparent-diversity",
   "metadata": {},
   "source": [
    "## 7. 3D Plot"
   ]
  },
  {
   "cell_type": "markdown",
   "id": "annoying-document",
   "metadata": {},
   "source": [
    "The library used is **plotly**. The 3D Surface plot opens in the browser in a new tab."
   ]
  },
  {
   "cell_type": "code",
   "execution_count": 15,
   "id": "global-condition",
   "metadata": {},
   "outputs": [
    {
     "data": {
      "text/plain": [
       "'temp-plot.html'"
      ]
     },
     "execution_count": 15,
     "metadata": {},
     "output_type": "execute_result"
    }
   ],
   "source": [
    "CHM = rasterio.open('CHM.tif')\n",
    "CHM_array = CHM.read(1) # Convert the raster into a Numpy array\n",
    "\n",
    "#Plot\n",
    "fig = go.Figure(data=[go.Surface(z=CHM_array)]) # Create the figure from the CHM array\n",
    "fig.update_layout(title=f'3D Plot - {house_address}', title_x=0.5,\n",
    "                    scene = dict(\n",
    "                    xaxis_title='Distance (m)',\n",
    "                    yaxis_title='Distance (m)',\n",
    "                    zaxis_title='Height'),\n",
    "                    font=dict(\n",
    "                    family=\"Courier New, monospace\",\n",
    "                    size=18,\n",
    "                    color=\"RebeccaPurple\"))\n",
    "fig.update_scenes(yaxis_autorange=\"reversed\")\n",
    "#fig.write_image(\"image.png\", width=1000, height=1000) # Write image to the local drive\n",
    "\n",
    "plot(fig) # Plot the house in new tab"
   ]
  },
  {
   "cell_type": "code",
   "execution_count": null,
   "id": "removable-affair",
   "metadata": {},
   "outputs": [],
   "source": []
  }
 ],
 "metadata": {
  "kernelspec": {
   "display_name": "Python 3",
   "language": "python",
   "name": "python3"
  },
  "language_info": {
   "codemirror_mode": {
    "name": "ipython",
    "version": 3
   },
   "file_extension": ".py",
   "mimetype": "text/x-python",
   "name": "python",
   "nbconvert_exporter": "python",
   "pygments_lexer": "ipython3",
   "version": "3.7.7"
  }
 },
 "nbformat": 4,
 "nbformat_minor": 5
}
