{
 "cells": [
  {
   "cell_type": "markdown",
   "id": "sustained-quantity",
   "metadata": {},
   "source": [
    "# 3D House project"
   ]
  },
  {
   "cell_type": "markdown",
   "id": "greek-inspiration",
   "metadata": {},
   "source": [
    "This project consists of plotting an interactive 3D Surface Graph of a house, based on the address provided. The region covered is the region of Flanders (Belgium)."
   ]
  },
  {
   "cell_type": "markdown",
   "id": "sudden-burst",
   "metadata": {},
   "source": [
    "The data are *Lidar* data. The region is divided into 43 rasters. Each raster is in the format **.tif** . This program will select the correct raster after getting from an API the geospatial coordinates corresponding to the address of the house."
   ]
  },
  {
   "cell_type": "markdown",
   "id": "affecting-cartoon",
   "metadata": {},
   "source": [
    "## 1. Libraries"
   ]
  },
  {
   "cell_type": "code",
   "execution_count": 137,
   "id": "wicked-nomination",
   "metadata": {},
   "outputs": [],
   "source": [
    "import geopandas as gpd\n",
    "from shapely.geometry import Polygon\n",
    "\n",
    "import rasterio # Tif files\n",
    "import os\n",
    "import numpy as np\n",
    "import pandas as pd\n",
    "\n",
    "import plotly.graph_objects as go\n",
    "import matplotlib.pyplot as plt\n",
    "%matplotlib inline\n",
    "from plotly.offline import download_plotlyjs, init_notebook_mode, plot\n",
    "from plotly.graph_objs import *\n",
    "from rasterio.plot import show\n",
    "from rasterio.mask import mask\n",
    "\n",
    "import requests\n",
    "import json"
   ]
  },
  {
   "cell_type": "markdown",
   "id": "hearing-gauge",
   "metadata": {},
   "source": [
    "## 2. Address and coordinates"
   ]
  },
  {
   "cell_type": "code",
   "execution_count": 138,
   "id": "romance-bunny",
   "metadata": {},
   "outputs": [
    {
     "name": "stdin",
     "output_type": "stream",
     "text": [
      "Street name:  Ooidonkdreef\n"
     ]
    }
   ],
   "source": [
    "street_name = input(\"Street name: \")"
   ]
  },
  {
   "cell_type": "code",
   "execution_count": 139,
   "id": "regional-nerve",
   "metadata": {},
   "outputs": [
    {
     "name": "stdin",
     "output_type": "stream",
     "text": [
      "House number:  9\n"
     ]
    }
   ],
   "source": [
    "house_number = int(input(\"House number: \"))"
   ]
  },
  {
   "cell_type": "code",
   "execution_count": 140,
   "id": "alleged-tonight",
   "metadata": {},
   "outputs": [
    {
     "name": "stdin",
     "output_type": "stream",
     "text": [
      "Post code:  9800\n"
     ]
    }
   ],
   "source": [
    "post_code = int(input(\"Post code: \"))"
   ]
  },
  {
   "cell_type": "code",
   "execution_count": 141,
   "id": "accompanied-momentum",
   "metadata": {},
   "outputs": [],
   "source": [
    "house_address = f'{street_name} {house_number} {post_code}' # Will be use for the title of the 3D plot later on"
   ]
  },
  {
   "cell_type": "code",
   "execution_count": 142,
   "id": "defensive-variance",
   "metadata": {},
   "outputs": [],
   "source": [
    "# Address request to the basisregisters Vlaanderen API\n",
    "\n",
    "# HTTP request to the API\n",
    "address = requests.get(\"https://api.basisregisters.vlaanderen.be/v1/adresmatch\",\n",
    "                      params={'postcode': post_code, 'straatnaam': street_name, 'huisnummer':house_number})\n",
    "\n",
    "address = address.json() # Convert http request's response into json format"
   ]
  },
  {
   "cell_type": "code",
   "execution_count": 143,
   "id": "committed-certification",
   "metadata": {},
   "outputs": [],
   "source": [
    "def get_coordinates(address):\n",
    "    \"\"\"\n",
    "    Function that get the geospatial coordinates and separate the latitude and longitude\n",
    "    in two different lists (lat, lon).\n",
    "    \"\"\"\n",
    "\n",
    "    address = address['adresMatches'][0]\n",
    "    \n",
    "    norm = pd.json_normalize(address)\n",
    "    norm = norm.loc[0,'adresseerbareObjecten']\n",
    "    block_url = norm[0].get('detail')\n",
    "    block_url\n",
    "    \n",
    "    # Second request\n",
    "    address = requests.get(block_url)\n",
    "    block_details = address.json()\n",
    "    block_details\n",
    "    \n",
    "    building = block_details.get('gebouw')\n",
    "    url_house = building.get('detail')\n",
    "    \n",
    "    # Third request\n",
    "    house = requests.get(url_house)\n",
    "    house_details = house.json()\n",
    "\n",
    "\n",
    "    df = pd.json_normalize(house_details) # Convert the json format into a Pandas DataFrame\n",
    "    \n",
    "    house_coordinates = df.loc[0,'geometriePolygoon.polygon.coordinates']\n",
    "    lat_lon = []\n",
    "\n",
    "    # Write geometry coordinates to a list\n",
    "    for list in house_coordinates:\n",
    "        for sublist in list:\n",
    "            for coordinates in sublist:\n",
    "                print(coordinates, end='\\n')\n",
    "                lat_lon.append(coordinates)\n",
    "\n",
    "    lat = []\n",
    "    lon = []\n",
    "\n",
    "    for i, coords in enumerate(lat_lon):\n",
    "        if i % 2 == 0:\n",
    "            lat.append(coords)\n",
    "        else:\n",
    "            lon.append(coords)\n",
    "\n",
    "    return lat, lon"
   ]
  },
  {
   "cell_type": "code",
   "execution_count": 144,
   "id": "textile-fleet",
   "metadata": {},
   "outputs": [
    {
     "name": "stdout",
     "output_type": "stream",
     "text": [
      "94913.04195717722\n",
      "188201.4174766913\n",
      "94915.1092851758\n",
      "188205.16058069468\n",
      "94914.6943731755\n",
      "188209.0231086947\n",
      "94910.79075717181\n",
      "188212.25875669718\n",
      "94910.59094917774\n",
      "188212.2346927002\n",
      "94909.6075251773\n",
      "188213.1533486992\n",
      "94906.99152517319\n",
      "188215.5971246995\n",
      "94906.21283717453\n",
      "188216.3245487027\n",
      "94906.2694131732\n",
      "188216.66758870333\n",
      "94902.4038771689\n",
      "188220.5536047034\n",
      "94899.54998916388\n",
      "188220.8439727053\n",
      "94895.9340531677\n",
      "188218.3685807027\n",
      "94894.85853316635\n",
      "188220.4919727035\n",
      "94892.29066116363\n",
      "188220.72870870307\n",
      "94891.80176515877\n",
      "188219.94733270258\n",
      "94887.2797171548\n",
      "188224.26752470806\n",
      "94887.5025651604\n",
      "188224.8248367086\n",
      "94887.73386115581\n",
      "188225.59162070975\n",
      "94887.88758915663\n",
      "188226.37766870856\n",
      "94887.96221315861\n",
      "188227.17510870844\n",
      "94887.9569651559\n",
      "188227.97606870905\n",
      "94887.87184515595\n",
      "188228.77242071182\n",
      "94887.70781315863\n",
      "188229.55642070994\n",
      "94887.46640516073\n",
      "188230.32006870955\n",
      "94887.1500531584\n",
      "188231.05587671325\n",
      "94886.76195716113\n",
      "188231.7564847134\n",
      "94886.30595716089\n",
      "188232.4149167128\n",
      "94885.78653315455\n",
      "188233.02458071336\n",
      "94885.20893315971\n",
      "188233.579460714\n",
      "94884.57891715318\n",
      "188234.07392471284\n",
      "94883.90269315243\n",
      "188234.50317271426\n",
      "94883.18704515696\n",
      "188234.86285271496\n",
      "94882.43914115429\n",
      "188235.1493807137\n",
      "94881.66640515625\n",
      "188235.35994071513\n",
      "94880.87651715428\n",
      "188235.49235671386\n",
      "94880.07734915614\n",
      "188235.54541271552\n",
      "94879.27683715522\n",
      "188235.51853271574\n",
      "94878.48304515332\n",
      "188235.41197271645\n",
      "94877.70378115028\n",
      "188235.22682071477\n",
      "94876.9469171539\n",
      "188234.96486871317\n",
      "94876.21987715364\n",
      "188234.628740713\n",
      "94875.53002115339\n",
      "188234.2218927145\n",
      "94874.88413315266\n",
      "188233.74822871387\n",
      "94874.28867714852\n",
      "188233.21254871413\n",
      "94873.74960514903\n",
      "188232.62016471103\n",
      "94873.27229315042\n",
      "188231.97702871263\n",
      "94872.86141315103\n",
      "188231.2894767113\n",
      "94872.52118914574\n",
      "188230.56435671076\n",
      "94872.25494914502\n",
      "188229.80896471068\n",
      "94872.06531714648\n",
      "188229.03085270897\n",
      "94871.95421314985\n",
      "188228.23763671145\n",
      "94871.9227251485\n",
      "188227.43731670827\n",
      "94871.97123714536\n",
      "188226.6378287077\n",
      "94872.09917315096\n",
      "188225.8472367078\n",
      "94872.30525314808\n",
      "188225.07328470796\n",
      "94872.58755714446\n",
      "188224.32371670753\n",
      "94870.86525315046\n",
      "188222.4090287052\n",
      "94870.83562114835\n",
      "188221.44774870574\n",
      "94871.2049651444\n",
      "188220.94899670407\n",
      "94871.39818114787\n",
      "188221.11277270317\n",
      "94873.25635714829\n",
      "188219.53171670437\n",
      "94873.08253315091\n",
      "188219.33229270205\n",
      "94873.54294914752\n",
      "188218.98989270255\n",
      "94874.0974451527\n",
      "188219.05043670163\n",
      "94874.16170115024\n",
      "188217.13619670272\n",
      "94876.26166915148\n",
      "188215.12160469964\n",
      "94876.79427715391\n",
      "188215.01472470164\n",
      "94877.21040514857\n",
      "188215.41267669946\n",
      "94883.6092531532\n",
      "188215.74560470134\n",
      "94895.63549316674\n",
      "188203.78771669418\n",
      "94896.037285164\n",
      "188204.19181269407\n",
      "94898.68355716765\n",
      "188201.58381269127\n",
      "94898.28534916788\n",
      "188201.18035669252\n",
      "94910.74038917571\n",
      "188188.88442068174\n",
      "94911.10915717483\n",
      "188182.18272467703\n",
      "94910.81078917533\n",
      "188182.1635246761\n",
      "94910.90090117604\n",
      "188181.49139667675\n",
      "94912.562213175\n",
      "188180.00390867516\n",
      "94910.19587717205\n",
      "188177.9268526733\n",
      "94911.26467717439\n",
      "188176.70931667462\n",
      "94914.57462918013\n",
      "188179.6145326756\n",
      "94914.9512051791\n",
      "188179.66381267458\n",
      "94915.4582131803\n",
      "188179.10381267592\n",
      "94915.70192518085\n",
      "188179.34931667522\n",
      "94917.34506117553\n",
      "188177.69837267324\n",
      "94917.16611717641\n",
      "188177.55398867652\n",
      "94917.61565317959\n",
      "188177.1426606737\n",
      "94918.90275718272\n",
      "188177.2708526738\n",
      "94921.18973318487\n",
      "188179.73498067632\n",
      "94921.94384518266\n",
      "188179.58176467568\n",
      "94922.70979718119\n",
      "188179.5076526776\n",
      "94923.47926918417\n",
      "188179.51341267675\n",
      "94924.2440051809\n",
      "188179.5989166759\n",
      "94924.99568518251\n",
      "188179.76333267614\n",
      "94925.72630918771\n",
      "188180.00480467826\n",
      "94926.42794118822\n",
      "188180.32083667815\n",
      "94927.09290118515\n",
      "188180.7079086788\n",
      "94927.71421318501\n",
      "188181.16186067834\n",
      "94928.28496518731\n",
      "188181.6778926775\n",
      "94928.7991411835\n",
      "188182.25030867755\n",
      "94929.25117319077\n",
      "188182.87302867696\n",
      "94929.63613318652\n",
      "188183.53926867992\n",
      "94929.94986119121\n",
      "188184.2417966798\n",
      "94930.18902918696\n",
      "188184.97318867967\n",
      "94930.35101319104\n",
      "188185.72538068146\n",
      "94930.43402118981\n",
      "188186.49037268013\n",
      "94930.43728518486\n",
      "188187.2598446831\n",
      "94930.36067719012\n",
      "188188.02547668293\n",
      "94930.20502918959\n",
      "188188.77907668427\n",
      "94929.97206918895\n",
      "188189.51245268434\n",
      "94929.66429318488\n",
      "188190.21773268282\n",
      "94929.28496518731\n",
      "188190.88723668456\n",
      "94928.83824519068\n",
      "188191.5138606839\n",
      "94928.32886918634\n",
      "188192.09069268405\n",
      "94927.76246918738\n",
      "188192.6115886867\n",
      "94927.14506118745\n",
      "188193.0709806867\n",
      "94926.48336518556\n",
      "188193.46374868602\n",
      "94925.78442118317\n",
      "188193.785796687\n",
      "94925.0559091866\n",
      "188194.03360468522\n",
      "94924.30557318032\n",
      "188194.20454868674\n",
      "94923.54160518199\n",
      "188194.29664468765\n",
      "94922.7721971795\n",
      "188194.30906068534\n",
      "94922.00566918403\n",
      "188194.2415406853\n",
      "94921.25027718395\n",
      "188194.09485268593\n",
      "94920.51421318203\n",
      "188193.87059668452\n",
      "94919.80534917861\n",
      "188193.57120468467\n",
      "94919.1314291805\n",
      "188193.1998766847\n",
      "94918.88374917954\n",
      "188193.03923668712\n",
      "94914.33782918006\n",
      "188197.19750868902\n",
      "94915.29296518117\n",
      "188197.92864469066\n",
      "94915.03562118113\n",
      "188200.2108206898\n",
      "94913.04195717722\n",
      "188201.4174766913\n"
     ]
    }
   ],
   "source": [
    "lat, lon = get_coordinates(address)"
   ]
  },
  {
   "cell_type": "markdown",
   "id": "fatty-portuguese",
   "metadata": {},
   "source": [
    "## 3. Creation of the polygon"
   ]
  },
  {
   "cell_type": "code",
   "execution_count": 145,
   "id": "norman-hamilton",
   "metadata": {},
   "outputs": [
    {
     "data": {
      "image/svg+xml": [
       "<svg xmlns=\"http://www.w3.org/2000/svg\" xmlns:xlink=\"http://www.w3.org/1999/xlink\" width=\"100.0\" height=\"100.0\" viewBox=\"94868.45155458689 188174.32525011315 64.36979715942289 63.60422916384414\" preserveAspectRatio=\"xMinYMin meet\"><g transform=\"matrix(1,0,0,-1,0,376412.25472939014)\"><path fill-rule=\"evenodd\" fill=\"#66cc99\" stroke=\"#555555\" stroke-width=\"1.2873959431884578\" opacity=\"0.6\" d=\"M 94913.04195717722,188201.4174766913 L 94915.1092851758,188205.16058069468 L 94914.6943731755,188209.0231086947 L 94910.79075717181,188212.25875669718 L 94910.59094917774,188212.2346927002 L 94909.6075251773,188213.1533486992 L 94906.99152517319,188215.5971246995 L 94906.21283717453,188216.3245487027 L 94906.2694131732,188216.66758870333 L 94902.4038771689,188220.5536047034 L 94899.54998916388,188220.8439727053 L 94895.9340531677,188218.3685807027 L 94894.85853316635,188220.4919727035 L 94892.29066116363,188220.72870870307 L 94891.80176515877,188219.94733270258 L 94887.2797171548,188224.26752470806 L 94887.5025651604,188224.8248367086 L 94887.73386115581,188225.59162070975 L 94887.88758915663,188226.37766870856 L 94887.96221315861,188227.17510870844 L 94887.9569651559,188227.97606870905 L 94887.87184515595,188228.77242071182 L 94887.70781315863,188229.55642070994 L 94887.46640516073,188230.32006870955 L 94887.1500531584,188231.05587671325 L 94886.76195716113,188231.7564847134 L 94886.30595716089,188232.4149167128 L 94885.78653315455,188233.02458071336 L 94885.20893315971,188233.579460714 L 94884.57891715318,188234.07392471284 L 94883.90269315243,188234.50317271426 L 94883.18704515696,188234.86285271496 L 94882.43914115429,188235.1493807137 L 94881.66640515625,188235.35994071513 L 94880.87651715428,188235.49235671386 L 94880.07734915614,188235.54541271552 L 94879.27683715522,188235.51853271574 L 94878.48304515332,188235.41197271645 L 94877.70378115028,188235.22682071477 L 94876.9469171539,188234.96486871317 L 94876.21987715364,188234.628740713 L 94875.53002115339,188234.2218927145 L 94874.88413315266,188233.74822871387 L 94874.28867714852,188233.21254871413 L 94873.74960514903,188232.62016471103 L 94873.27229315042,188231.97702871263 L 94872.86141315103,188231.2894767113 L 94872.52118914574,188230.56435671076 L 94872.25494914502,188229.80896471068 L 94872.06531714648,188229.03085270897 L 94871.95421314985,188228.23763671145 L 94871.9227251485,188227.43731670827 L 94871.97123714536,188226.6378287077 L 94872.09917315096,188225.8472367078 L 94872.30525314808,188225.07328470796 L 94872.58755714446,188224.32371670753 L 94870.86525315046,188222.4090287052 L 94870.83562114835,188221.44774870574 L 94871.2049651444,188220.94899670407 L 94871.39818114787,188221.11277270317 L 94873.25635714829,188219.53171670437 L 94873.08253315091,188219.33229270205 L 94873.54294914752,188218.98989270255 L 94874.0974451527,188219.05043670163 L 94874.16170115024,188217.13619670272 L 94876.26166915148,188215.12160469964 L 94876.79427715391,188215.01472470164 L 94877.21040514857,188215.41267669946 L 94883.6092531532,188215.74560470134 L 94895.63549316674,188203.78771669418 L 94896.037285164,188204.19181269407 L 94898.68355716765,188201.58381269127 L 94898.28534916788,188201.18035669252 L 94910.74038917571,188188.88442068174 L 94911.10915717483,188182.18272467703 L 94910.81078917533,188182.1635246761 L 94910.90090117604,188181.49139667675 L 94912.562213175,188180.00390867516 L 94910.19587717205,188177.9268526733 L 94911.26467717439,188176.70931667462 L 94914.57462918013,188179.6145326756 L 94914.9512051791,188179.66381267458 L 94915.4582131803,188179.10381267592 L 94915.70192518085,188179.34931667522 L 94917.34506117553,188177.69837267324 L 94917.16611717641,188177.55398867652 L 94917.61565317959,188177.1426606737 L 94918.90275718272,188177.2708526738 L 94921.18973318487,188179.73498067632 L 94921.94384518266,188179.58176467568 L 94922.70979718119,188179.5076526776 L 94923.47926918417,188179.51341267675 L 94924.2440051809,188179.5989166759 L 94924.99568518251,188179.76333267614 L 94925.72630918771,188180.00480467826 L 94926.42794118822,188180.32083667815 L 94927.09290118515,188180.7079086788 L 94927.71421318501,188181.16186067834 L 94928.28496518731,188181.6778926775 L 94928.7991411835,188182.25030867755 L 94929.25117319077,188182.87302867696 L 94929.63613318652,188183.53926867992 L 94929.94986119121,188184.2417966798 L 94930.18902918696,188184.97318867967 L 94930.35101319104,188185.72538068146 L 94930.43402118981,188186.49037268013 L 94930.43728518486,188187.2598446831 L 94930.36067719012,188188.02547668293 L 94930.20502918959,188188.77907668427 L 94929.97206918895,188189.51245268434 L 94929.66429318488,188190.21773268282 L 94929.28496518731,188190.88723668456 L 94928.83824519068,188191.5138606839 L 94928.32886918634,188192.09069268405 L 94927.76246918738,188192.6115886867 L 94927.14506118745,188193.0709806867 L 94926.48336518556,188193.46374868602 L 94925.78442118317,188193.785796687 L 94925.0559091866,188194.03360468522 L 94924.30557318032,188194.20454868674 L 94923.54160518199,188194.29664468765 L 94922.7721971795,188194.30906068534 L 94922.00566918403,188194.2415406853 L 94921.25027718395,188194.09485268593 L 94920.51421318203,188193.87059668452 L 94919.80534917861,188193.57120468467 L 94919.1314291805,188193.1998766847 L 94918.88374917954,188193.03923668712 L 94914.33782918006,188197.19750868902 L 94915.29296518117,188197.92864469066 L 94915.03562118113,188200.2108206898 L 94913.04195717722,188201.4174766913 z\" /></g></svg>"
      ],
      "text/plain": [
       "<shapely.geometry.polygon.Polygon at 0x7f9a20ca93a0>"
      ]
     },
     "execution_count": 145,
     "metadata": {},
     "output_type": "execute_result"
    }
   ],
   "source": [
    "polygon_geometry = Polygon(zip(lat, lon)) # Geometry\n",
    "polygon = gpd.GeoDataFrame(index=[0], crs='epsg:31370', geometry=[polygon_geometry])\n",
    "\n",
    "polygon_geometry"
   ]
  },
  {
   "cell_type": "markdown",
   "id": "static-moisture",
   "metadata": {},
   "source": [
    "## 4. Selection of the raster"
   ]
  },
  {
   "cell_type": "markdown",
   "id": "declared-match",
   "metadata": {},
   "source": [
    "All the rasters are located in the local drive and separated in two distincts folders (/DSM and /DTM)"
   ]
  },
  {
   "cell_type": "code",
   "execution_count": 146,
   "id": "favorite-blanket",
   "metadata": {},
   "outputs": [],
   "source": [
    "def get_raster_number(coordinates):\n",
    "    \"\"\"\n",
    "    Function that select the correct raster based on the coordinates of the address.\n",
    "    \"\"\"\n",
    "    \n",
    "    df = pd.read_csv('Utils/rasters_lambert_coordinates.csv') # Load the csv file\n",
    "    \n",
    "\n",
    "    # Search for the correct raster\n",
    "    raster = df[(df['Left'] < coordinates[0]) & (df['Right'] > coordinates[0])\n",
    "       & ((df['Bottom'] < coordinates[1]) & (df['Top'] > coordinates[1]))]\n",
    "    \n",
    "    num_raster = raster['Raster'].item() # Raster number\n",
    "    \n",
    "    return num_raster"
   ]
  },
  {
   "cell_type": "code",
   "execution_count": 147,
   "id": "clinical-piano",
   "metadata": {},
   "outputs": [
    {
     "data": {
      "text/plain": [
       "'/media/ms/Seagate Expansion Drive/BECODE/Rasters/DSM/DHMVIIDSMRAS1m_k21.tif'"
      ]
     },
     "execution_count": 147,
     "metadata": {},
     "output_type": "execute_result"
    }
   ],
   "source": [
    "# Raster number\n",
    "number = get_raster_number([lat[0],lon[0]])\n",
    "\n",
    "path_DSM = f\"/media/ms/Seagate Expansion Drive/BECODE/Rasters/DSM/DHMVIIDSMRAS1m_k{number}.tif\"  \n",
    "path_DTM = f\"/media/ms/Seagate Expansion Drive/BECODE/Rasters/DTM/DHMVIIDTMRAS1m_k{number}.tif\"\n",
    "path_DSM"
   ]
  },
  {
   "cell_type": "markdown",
   "id": "becoming-verse",
   "metadata": {},
   "source": [
    "## 5. Masking the DSM and DTM"
   ]
  },
  {
   "cell_type": "code",
   "execution_count": 148,
   "id": "polished-posting",
   "metadata": {},
   "outputs": [],
   "source": [
    "def mask_rasters(DSM_path:str, DTM_path:str) -> str:\n",
    "    \n",
    "    # Open DTM and DSM rasters\n",
    "    raster_DTM = rasterio.open(DTM_path)\n",
    "    raster_DSM = rasterio.open(DSM_path)\n",
    "\n",
    "\n",
    "    # Crop of the DTM raster based on the polygon geometry\n",
    "    masked_DTM, masked_transform_DTM = mask(dataset=raster_DTM, shapes=polygon.geometry, crop=True, filled=False) \n",
    "\n",
    "\n",
    "    # Crop of the DSM raster based on the polygon geometry\n",
    "    masked_DSM, masked_transform_DSM = mask(dataset=raster_DSM, shapes=polygon.geometry, crop=True, filled=False) \n",
    "\n",
    "    profile = raster_DTM.meta.copy()\n",
    "\n",
    "    width = masked_DTM.shape[2]\n",
    "    height = masked_DTM.shape[1]\n",
    "    profile.update(drivers='GTiff', transform=masked_transform_DTM, height=height, width=width)\n",
    "\n",
    "    print(profile)\n",
    "\n",
    "    # Create a new file \"masked_DSM.tif\" and saving it into the local drive\n",
    "    with rasterio.open(\"/home/ms/BeCode/Projects/3D-house-Project/masked_DSM.tif\", 'w', **profile) as dst:\n",
    "        dst.write(masked_DSM) \n",
    "    \n",
    "    # Create a new file \"masked_DTM.tif\" and saving it into the local drive    \n",
    "    with rasterio.open(\"/home/ms/BeCode/Projects/3D-house-Project/masked_DTM.tif\", 'w', **profile) as dst:\n",
    "        dst.write(masked_DTM) # Save the masked DTM"
   ]
  },
  {
   "cell_type": "code",
   "execution_count": 149,
   "id": "sound-receipt",
   "metadata": {},
   "outputs": [
    {
     "name": "stdout",
     "output_type": "stream",
     "text": [
      "{'driver': 'GTiff', 'dtype': 'float32', 'nodata': -9999.0, 'width': 61, 'height': 60, 'count': 1, 'crs': CRS.from_epsg(31370), 'transform': Affine(1.0, 0.0, 94870.0,\n",
      "       0.0, -1.0, 188236.0), 'drivers': 'GTiff'}\n"
     ]
    }
   ],
   "source": [
    "mask_rasters(path_DSM, path_DTM)"
   ]
  },
  {
   "cell_type": "markdown",
   "id": "tired-train",
   "metadata": {},
   "source": [
    "## 6. Creation of the CHM (Canopy Height Model)"
   ]
  },
  {
   "cell_type": "code",
   "execution_count": 150,
   "id": "planned-utility",
   "metadata": {},
   "outputs": [],
   "source": [
    "def Build_CHM():\n",
    "    \n",
    "    m_DTM = rasterio.open('masked_DTM.tif')\n",
    "    m_DSM = rasterio.open('masked_DSM.tif')\n",
    "\n",
    "    DSM_array = m_DSM.read(1)\n",
    "    DTM_array = m_DTM.read(1)\n",
    "    raster_CHM = DSM_array - DTM_array # Canopy Height Model (CHM) = (DSM - DTM)\n",
    "    show(raster_CHM)\n",
    "\n",
    "    print(profile)\n",
    "\n",
    "     # Create a new file \"CHM.tif\" and save it into the local drive\n",
    "    with rasterio.open(\"/home/ms/BeCode/Projects/3D-house-Project/CHM.tif\", 'w', **profile) as dst:\n",
    "        dst.write(raster_CHM, 1)"
   ]
  },
  {
   "cell_type": "code",
   "execution_count": 151,
   "id": "bridal-present",
   "metadata": {},
   "outputs": [
    {
     "data": {
      "image/png": "[encoded data removed]",
      "text/plain": [
       "<Figure size 432x288 with 1 Axes>"
      ]
     },
     "metadata": {
      "needs_background": "light"
     },
     "output_type": "display_data"
    },
    {
     "name": "stdout",
     "output_type": "stream",
     "text": [
      "{'driver': 'GTiff', 'dtype': 'float32', 'nodata': -9999.0, 'width': 33, 'height': 46, 'count': 1, 'crs': CRS.from_epsg(31370), 'transform': Affine(1.0, 0.0, 94604.0,\n",
      "       0.0, -1.0, 188572.0), 'drivers': 'GTiff'}\n"
     ]
    }
   ],
   "source": [
    "Build_CHM()"
   ]
  },
  {
   "cell_type": "markdown",
   "id": "scheduled-surname",
   "metadata": {},
   "source": [
    "## 7. 3D Plot"
   ]
  },
  {
   "cell_type": "markdown",
   "id": "confident-windows",
   "metadata": {},
   "source": [
    "The library used is **plotly**. The 3D Surface plot opens in the browser in a new tab."
   ]
  },
  {
   "cell_type": "code",
   "execution_count": 152,
   "id": "talented-boating",
   "metadata": {},
   "outputs": [],
   "source": [
    "def Plot_3d():\n",
    "    CHM = rasterio.open('CHM.tif')\n",
    "    CHM_array = CHM.read(1) # Convert the raster into a Numpy array\n",
    "\n",
    "    #Plot\n",
    "    fig = go.Figure(data=[go.Surface(z=CHM_array)]) # Create the figure from the CHM array\n",
    "    fig.update_layout(title=f'3D Plot - {house_address}', title_x=0.5,\n",
    "                    scene = dict(\n",
    "                    xaxis_title='Distance (m)',\n",
    "                    yaxis_title='Distance (m)',\n",
    "                    zaxis_title='Height'),\n",
    "                    font=dict(\n",
    "                    family=\"Courier New, monospace\",\n",
    "                    size=18,\n",
    "                    color=\"RebeccaPurple\"))\n",
    "    fig.update_scenes(yaxis_autorange=\"reversed\")\n",
    "\n",
    "    plot(fig) # Plot the house in new tab"
   ]
  },
  {
   "cell_type": "code",
   "execution_count": 153,
   "id": "adjacent-vinyl",
   "metadata": {},
   "outputs": [],
   "source": [
    "Plot_3d()"
   ]
  },
  {
   "cell_type": "code",
   "execution_count": null,
   "id": "acquired-sunrise",
   "metadata": {},
   "outputs": [],
   "source": []
  },
  {
   "cell_type": "code",
   "execution_count": null,
   "id": "threatened-square",
   "metadata": {},
   "outputs": [],
   "source": []
  }
 ],
 "metadata": {
  "kernelspec": {
   "display_name": "Python 3",
   "language": "python",
   "name": "python3"
  },
  "language_info": {
   "codemirror_mode": {
    "name": "ipython",
    "version": 3
   },
   "file_extension": ".py",
   "mimetype": "text/x-python",
   "name": "python",
   "nbconvert_exporter": "python",
   "pygments_lexer": "ipython3",
   "version": "3.8.5"
  }
 },
 "nbformat": 4,
 "nbformat_minor": 5
}
